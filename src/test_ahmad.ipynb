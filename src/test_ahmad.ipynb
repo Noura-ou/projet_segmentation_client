{
 "cells": [
  {
   "cell_type": "code",
   "execution_count": 2,
   "metadata": {},
   "outputs": [],
   "source": [
    "import pandas as pd\n"
   ]
  },
  {
   "cell_type": "code",
   "execution_count": 3,
   "metadata": {},
   "outputs": [],
   "source": [
    "df1 = pd.read_excel(\"../data/bronze.xlsx\")\n",
    "df2 = pd.read_excel(\"../data/bronze.xlsx\", sheet_name=1)\n",
    "df = pd.concat([df1, df2])\n"
   ]
  },
  {
   "cell_type": "code",
   "execution_count": 4,
   "metadata": {},
   "outputs": [
    {
     "name": "stdout",
     "output_type": "stream",
     "text": [
      "<class 'pandas.core.frame.DataFrame'>\n",
      "Int64Index: 1067371 entries, 0 to 541909\n",
      "Data columns (total 8 columns):\n",
      " #   Column       Non-Null Count    Dtype         \n",
      "---  ------       --------------    -----         \n",
      " 0   Invoice      1067371 non-null  object        \n",
      " 1   StockCode    1067371 non-null  object        \n",
      " 2   Description  1062989 non-null  object        \n",
      " 3   Quantity     1067371 non-null  int64         \n",
      " 4   InvoiceDate  1067371 non-null  datetime64[ns]\n",
      " 5   Price        1067371 non-null  float64       \n",
      " 6   Customer ID  824364 non-null   float64       \n",
      " 7   Country      1067371 non-null  object        \n",
      "dtypes: datetime64[ns](1), float64(2), int64(1), object(4)\n",
      "memory usage: 73.3+ MB\n"
     ]
    }
   ],
   "source": [
    "df.info()"
   ]
  },
  {
   "cell_type": "code",
   "execution_count": 5,
   "metadata": {},
   "outputs": [
    {
     "data": {
      "text/plain": [
       "4382"
      ]
     },
     "execution_count": 5,
     "metadata": {},
     "output_type": "execute_result"
    }
   ],
   "source": [
    "df.Description.isna().sum()"
   ]
  },
  {
   "cell_type": "code",
   "execution_count": 6,
   "metadata": {},
   "outputs": [],
   "source": [
    "df.rename(columns={\"Customer ID\": \"Customer_id\"}, inplace=True)"
   ]
  },
  {
   "cell_type": "code",
   "execution_count": 7,
   "metadata": {},
   "outputs": [
    {
     "data": {
      "text/plain": [
       "243007"
      ]
     },
     "execution_count": 7,
     "metadata": {},
     "output_type": "execute_result"
    }
   ],
   "source": [
    "df['Customer_id'].isna().sum()"
   ]
  },
  {
   "cell_type": "code",
   "execution_count": 8,
   "metadata": {},
   "outputs": [
    {
     "data": {
      "text/html": [
       "<div>\n",
       "<style scoped>\n",
       "    .dataframe tbody tr th:only-of-type {\n",
       "        vertical-align: middle;\n",
       "    }\n",
       "\n",
       "    .dataframe tbody tr th {\n",
       "        vertical-align: top;\n",
       "    }\n",
       "\n",
       "    .dataframe thead th {\n",
       "        text-align: right;\n",
       "    }\n",
       "</style>\n",
       "<table border=\"1\" class=\"dataframe\">\n",
       "  <thead>\n",
       "    <tr style=\"text-align: right;\">\n",
       "      <th></th>\n",
       "      <th>Invoice</th>\n",
       "      <th>StockCode</th>\n",
       "      <th>Description</th>\n",
       "      <th>Quantity</th>\n",
       "      <th>InvoiceDate</th>\n",
       "      <th>Price</th>\n",
       "      <th>Customer_id</th>\n",
       "      <th>Country</th>\n",
       "    </tr>\n",
       "  </thead>\n",
       "  <tbody>\n",
       "    <tr>\n",
       "      <th>470</th>\n",
       "      <td>489521</td>\n",
       "      <td>21646</td>\n",
       "      <td>NaN</td>\n",
       "      <td>-50</td>\n",
       "      <td>2009-12-01 11:44:00</td>\n",
       "      <td>0.0</td>\n",
       "      <td>NaN</td>\n",
       "      <td>United Kingdom</td>\n",
       "    </tr>\n",
       "    <tr>\n",
       "      <th>3114</th>\n",
       "      <td>489655</td>\n",
       "      <td>20683</td>\n",
       "      <td>NaN</td>\n",
       "      <td>-44</td>\n",
       "      <td>2009-12-01 17:26:00</td>\n",
       "      <td>0.0</td>\n",
       "      <td>NaN</td>\n",
       "      <td>United Kingdom</td>\n",
       "    </tr>\n",
       "    <tr>\n",
       "      <th>3161</th>\n",
       "      <td>489659</td>\n",
       "      <td>21350</td>\n",
       "      <td>NaN</td>\n",
       "      <td>230</td>\n",
       "      <td>2009-12-01 17:39:00</td>\n",
       "      <td>0.0</td>\n",
       "      <td>NaN</td>\n",
       "      <td>United Kingdom</td>\n",
       "    </tr>\n",
       "    <tr>\n",
       "      <th>3731</th>\n",
       "      <td>489781</td>\n",
       "      <td>84292</td>\n",
       "      <td>NaN</td>\n",
       "      <td>17</td>\n",
       "      <td>2009-12-02 11:45:00</td>\n",
       "      <td>0.0</td>\n",
       "      <td>NaN</td>\n",
       "      <td>United Kingdom</td>\n",
       "    </tr>\n",
       "    <tr>\n",
       "      <th>4296</th>\n",
       "      <td>489806</td>\n",
       "      <td>18010</td>\n",
       "      <td>NaN</td>\n",
       "      <td>-770</td>\n",
       "      <td>2009-12-02 12:42:00</td>\n",
       "      <td>0.0</td>\n",
       "      <td>NaN</td>\n",
       "      <td>United Kingdom</td>\n",
       "    </tr>\n",
       "    <tr>\n",
       "      <th>...</th>\n",
       "      <td>...</td>\n",
       "      <td>...</td>\n",
       "      <td>...</td>\n",
       "      <td>...</td>\n",
       "      <td>...</td>\n",
       "      <td>...</td>\n",
       "      <td>...</td>\n",
       "      <td>...</td>\n",
       "    </tr>\n",
       "    <tr>\n",
       "      <th>535322</th>\n",
       "      <td>581199</td>\n",
       "      <td>84581</td>\n",
       "      <td>NaN</td>\n",
       "      <td>-2</td>\n",
       "      <td>2011-12-07 18:26:00</td>\n",
       "      <td>0.0</td>\n",
       "      <td>NaN</td>\n",
       "      <td>United Kingdom</td>\n",
       "    </tr>\n",
       "    <tr>\n",
       "      <th>535326</th>\n",
       "      <td>581203</td>\n",
       "      <td>23406</td>\n",
       "      <td>NaN</td>\n",
       "      <td>15</td>\n",
       "      <td>2011-12-07 18:31:00</td>\n",
       "      <td>0.0</td>\n",
       "      <td>NaN</td>\n",
       "      <td>United Kingdom</td>\n",
       "    </tr>\n",
       "    <tr>\n",
       "      <th>535332</th>\n",
       "      <td>581209</td>\n",
       "      <td>21620</td>\n",
       "      <td>NaN</td>\n",
       "      <td>6</td>\n",
       "      <td>2011-12-07 18:35:00</td>\n",
       "      <td>0.0</td>\n",
       "      <td>NaN</td>\n",
       "      <td>United Kingdom</td>\n",
       "    </tr>\n",
       "    <tr>\n",
       "      <th>536981</th>\n",
       "      <td>581234</td>\n",
       "      <td>72817</td>\n",
       "      <td>NaN</td>\n",
       "      <td>27</td>\n",
       "      <td>2011-12-08 10:33:00</td>\n",
       "      <td>0.0</td>\n",
       "      <td>NaN</td>\n",
       "      <td>United Kingdom</td>\n",
       "    </tr>\n",
       "    <tr>\n",
       "      <th>538554</th>\n",
       "      <td>581408</td>\n",
       "      <td>85175</td>\n",
       "      <td>NaN</td>\n",
       "      <td>20</td>\n",
       "      <td>2011-12-08 14:06:00</td>\n",
       "      <td>0.0</td>\n",
       "      <td>NaN</td>\n",
       "      <td>United Kingdom</td>\n",
       "    </tr>\n",
       "  </tbody>\n",
       "</table>\n",
       "<p>4382 rows × 8 columns</p>\n",
       "</div>"
      ],
      "text/plain": [
       "       Invoice StockCode Description  Quantity         InvoiceDate  Price  \\\n",
       "470     489521     21646         NaN       -50 2009-12-01 11:44:00    0.0   \n",
       "3114    489655     20683         NaN       -44 2009-12-01 17:26:00    0.0   \n",
       "3161    489659     21350         NaN       230 2009-12-01 17:39:00    0.0   \n",
       "3731    489781     84292         NaN        17 2009-12-02 11:45:00    0.0   \n",
       "4296    489806     18010         NaN      -770 2009-12-02 12:42:00    0.0   \n",
       "...        ...       ...         ...       ...                 ...    ...   \n",
       "535322  581199     84581         NaN        -2 2011-12-07 18:26:00    0.0   \n",
       "535326  581203     23406         NaN        15 2011-12-07 18:31:00    0.0   \n",
       "535332  581209     21620         NaN         6 2011-12-07 18:35:00    0.0   \n",
       "536981  581234     72817         NaN        27 2011-12-08 10:33:00    0.0   \n",
       "538554  581408     85175         NaN        20 2011-12-08 14:06:00    0.0   \n",
       "\n",
       "        Customer_id         Country  \n",
       "470             NaN  United Kingdom  \n",
       "3114            NaN  United Kingdom  \n",
       "3161            NaN  United Kingdom  \n",
       "3731            NaN  United Kingdom  \n",
       "4296            NaN  United Kingdom  \n",
       "...             ...             ...  \n",
       "535322          NaN  United Kingdom  \n",
       "535326          NaN  United Kingdom  \n",
       "535332          NaN  United Kingdom  \n",
       "536981          NaN  United Kingdom  \n",
       "538554          NaN  United Kingdom  \n",
       "\n",
       "[4382 rows x 8 columns]"
      ]
     },
     "execution_count": 8,
     "metadata": {},
     "output_type": "execute_result"
    }
   ],
   "source": [
    "df[df['Description'].isna()]"
   ]
  },
  {
   "cell_type": "code",
   "execution_count": 9,
   "metadata": {},
   "outputs": [
    {
     "data": {
      "text/html": [
       "<div>\n",
       "<style scoped>\n",
       "    .dataframe tbody tr th:only-of-type {\n",
       "        vertical-align: middle;\n",
       "    }\n",
       "\n",
       "    .dataframe tbody tr th {\n",
       "        vertical-align: top;\n",
       "    }\n",
       "\n",
       "    .dataframe thead th {\n",
       "        text-align: right;\n",
       "    }\n",
       "</style>\n",
       "<table border=\"1\" class=\"dataframe\">\n",
       "  <thead>\n",
       "    <tr style=\"text-align: right;\">\n",
       "      <th></th>\n",
       "      <th>Invoice</th>\n",
       "      <th>StockCode</th>\n",
       "      <th>Description</th>\n",
       "      <th>Quantity</th>\n",
       "      <th>InvoiceDate</th>\n",
       "      <th>Price</th>\n",
       "      <th>Customer_id</th>\n",
       "      <th>Country</th>\n",
       "    </tr>\n",
       "  </thead>\n",
       "  <tbody>\n",
       "    <tr>\n",
       "      <th>263</th>\n",
       "      <td>489464</td>\n",
       "      <td>21733</td>\n",
       "      <td>85123a mixed</td>\n",
       "      <td>-96</td>\n",
       "      <td>2009-12-01 10:52:00</td>\n",
       "      <td>0.00</td>\n",
       "      <td>NaN</td>\n",
       "      <td>United Kingdom</td>\n",
       "    </tr>\n",
       "    <tr>\n",
       "      <th>283</th>\n",
       "      <td>489463</td>\n",
       "      <td>71477</td>\n",
       "      <td>short</td>\n",
       "      <td>-240</td>\n",
       "      <td>2009-12-01 10:52:00</td>\n",
       "      <td>0.00</td>\n",
       "      <td>NaN</td>\n",
       "      <td>United Kingdom</td>\n",
       "    </tr>\n",
       "    <tr>\n",
       "      <th>284</th>\n",
       "      <td>489467</td>\n",
       "      <td>85123A</td>\n",
       "      <td>21733 mixed</td>\n",
       "      <td>-192</td>\n",
       "      <td>2009-12-01 10:53:00</td>\n",
       "      <td>0.00</td>\n",
       "      <td>NaN</td>\n",
       "      <td>United Kingdom</td>\n",
       "    </tr>\n",
       "    <tr>\n",
       "      <th>470</th>\n",
       "      <td>489521</td>\n",
       "      <td>21646</td>\n",
       "      <td>NaN</td>\n",
       "      <td>-50</td>\n",
       "      <td>2009-12-01 11:44:00</td>\n",
       "      <td>0.00</td>\n",
       "      <td>NaN</td>\n",
       "      <td>United Kingdom</td>\n",
       "    </tr>\n",
       "    <tr>\n",
       "      <th>577</th>\n",
       "      <td>489525</td>\n",
       "      <td>85226C</td>\n",
       "      <td>BLUE PULL BACK RACING CAR</td>\n",
       "      <td>1</td>\n",
       "      <td>2009-12-01 11:49:00</td>\n",
       "      <td>0.55</td>\n",
       "      <td>NaN</td>\n",
       "      <td>United Kingdom</td>\n",
       "    </tr>\n",
       "    <tr>\n",
       "      <th>...</th>\n",
       "      <td>...</td>\n",
       "      <td>...</td>\n",
       "      <td>...</td>\n",
       "      <td>...</td>\n",
       "      <td>...</td>\n",
       "      <td>...</td>\n",
       "      <td>...</td>\n",
       "      <td>...</td>\n",
       "    </tr>\n",
       "    <tr>\n",
       "      <th>541536</th>\n",
       "      <td>581498</td>\n",
       "      <td>85099B</td>\n",
       "      <td>JUMBO BAG RED RETROSPOT</td>\n",
       "      <td>5</td>\n",
       "      <td>2011-12-09 10:26:00</td>\n",
       "      <td>4.13</td>\n",
       "      <td>NaN</td>\n",
       "      <td>United Kingdom</td>\n",
       "    </tr>\n",
       "    <tr>\n",
       "      <th>541537</th>\n",
       "      <td>581498</td>\n",
       "      <td>85099C</td>\n",
       "      <td>JUMBO  BAG BAROQUE BLACK WHITE</td>\n",
       "      <td>4</td>\n",
       "      <td>2011-12-09 10:26:00</td>\n",
       "      <td>4.13</td>\n",
       "      <td>NaN</td>\n",
       "      <td>United Kingdom</td>\n",
       "    </tr>\n",
       "    <tr>\n",
       "      <th>541538</th>\n",
       "      <td>581498</td>\n",
       "      <td>85150</td>\n",
       "      <td>LADIES &amp; GENTLEMEN METAL SIGN</td>\n",
       "      <td>1</td>\n",
       "      <td>2011-12-09 10:26:00</td>\n",
       "      <td>4.96</td>\n",
       "      <td>NaN</td>\n",
       "      <td>United Kingdom</td>\n",
       "    </tr>\n",
       "    <tr>\n",
       "      <th>541539</th>\n",
       "      <td>581498</td>\n",
       "      <td>85174</td>\n",
       "      <td>S/4 CACTI CANDLES</td>\n",
       "      <td>1</td>\n",
       "      <td>2011-12-09 10:26:00</td>\n",
       "      <td>10.79</td>\n",
       "      <td>NaN</td>\n",
       "      <td>United Kingdom</td>\n",
       "    </tr>\n",
       "    <tr>\n",
       "      <th>541540</th>\n",
       "      <td>581498</td>\n",
       "      <td>DOT</td>\n",
       "      <td>DOTCOM POSTAGE</td>\n",
       "      <td>1</td>\n",
       "      <td>2011-12-09 10:26:00</td>\n",
       "      <td>1714.17</td>\n",
       "      <td>NaN</td>\n",
       "      <td>United Kingdom</td>\n",
       "    </tr>\n",
       "  </tbody>\n",
       "</table>\n",
       "<p>243007 rows × 8 columns</p>\n",
       "</div>"
      ],
      "text/plain": [
       "       Invoice StockCode                     Description  Quantity  \\\n",
       "263     489464     21733                    85123a mixed       -96   \n",
       "283     489463     71477                           short      -240   \n",
       "284     489467    85123A                     21733 mixed      -192   \n",
       "470     489521     21646                             NaN       -50   \n",
       "577     489525    85226C       BLUE PULL BACK RACING CAR         1   \n",
       "...        ...       ...                             ...       ...   \n",
       "541536  581498    85099B         JUMBO BAG RED RETROSPOT         5   \n",
       "541537  581498    85099C  JUMBO  BAG BAROQUE BLACK WHITE         4   \n",
       "541538  581498     85150   LADIES & GENTLEMEN METAL SIGN         1   \n",
       "541539  581498     85174               S/4 CACTI CANDLES         1   \n",
       "541540  581498       DOT                  DOTCOM POSTAGE         1   \n",
       "\n",
       "               InvoiceDate    Price  Customer_id         Country  \n",
       "263    2009-12-01 10:52:00     0.00          NaN  United Kingdom  \n",
       "283    2009-12-01 10:52:00     0.00          NaN  United Kingdom  \n",
       "284    2009-12-01 10:53:00     0.00          NaN  United Kingdom  \n",
       "470    2009-12-01 11:44:00     0.00          NaN  United Kingdom  \n",
       "577    2009-12-01 11:49:00     0.55          NaN  United Kingdom  \n",
       "...                    ...      ...          ...             ...  \n",
       "541536 2011-12-09 10:26:00     4.13          NaN  United Kingdom  \n",
       "541537 2011-12-09 10:26:00     4.13          NaN  United Kingdom  \n",
       "541538 2011-12-09 10:26:00     4.96          NaN  United Kingdom  \n",
       "541539 2011-12-09 10:26:00    10.79          NaN  United Kingdom  \n",
       "541540 2011-12-09 10:26:00  1714.17          NaN  United Kingdom  \n",
       "\n",
       "[243007 rows x 8 columns]"
      ]
     },
     "execution_count": 9,
     "metadata": {},
     "output_type": "execute_result"
    }
   ],
   "source": [
    "df[df['Customer_id'].isna()]\n"
   ]
  },
  {
   "cell_type": "code",
   "execution_count": 10,
   "metadata": {},
   "outputs": [
    {
     "data": {
      "text/plain": [
       "0        2009-12-01 07:45:00\n",
       "1        2009-12-01 07:45:00\n",
       "2        2009-12-01 07:45:00\n",
       "3        2009-12-01 07:45:00\n",
       "4        2009-12-01 07:45:00\n",
       "                 ...        \n",
       "541905   2011-12-09 12:50:00\n",
       "541906   2011-12-09 12:50:00\n",
       "541907   2011-12-09 12:50:00\n",
       "541908   2011-12-09 12:50:00\n",
       "541909   2011-12-09 12:50:00\n",
       "Name: InvoiceDate, Length: 1067371, dtype: datetime64[ns]"
      ]
     },
     "execution_count": 10,
     "metadata": {},
     "output_type": "execute_result"
    }
   ],
   "source": [
    "df.InvoiceDate"
   ]
  },
  {
   "cell_type": "code",
   "execution_count": 11,
   "metadata": {},
   "outputs": [
    {
     "data": {
      "text/plain": [
       "34335"
      ]
     },
     "execution_count": 11,
     "metadata": {},
     "output_type": "execute_result"
    }
   ],
   "source": [
    "df.duplicated().sum()"
   ]
  },
  {
   "cell_type": "code",
   "execution_count": 12,
   "metadata": {},
   "outputs": [],
   "source": [
    "df = df.drop_duplicates()\n"
   ]
  },
  {
   "cell_type": "code",
   "execution_count": 13,
   "metadata": {},
   "outputs": [
    {
     "name": "stdout",
     "output_type": "stream",
     "text": [
      "<class 'pandas.core.frame.DataFrame'>\n",
      "Int64Index: 1033036 entries, 0 to 541909\n",
      "Data columns (total 8 columns):\n",
      " #   Column       Non-Null Count    Dtype         \n",
      "---  ------       --------------    -----         \n",
      " 0   Invoice      1033036 non-null  object        \n",
      " 1   StockCode    1033036 non-null  object        \n",
      " 2   Description  1028761 non-null  object        \n",
      " 3   Quantity     1033036 non-null  int64         \n",
      " 4   InvoiceDate  1033036 non-null  datetime64[ns]\n",
      " 5   Price        1033036 non-null  float64       \n",
      " 6   Customer_id  797885 non-null   float64       \n",
      " 7   Country      1033036 non-null  object        \n",
      "dtypes: datetime64[ns](1), float64(2), int64(1), object(4)\n",
      "memory usage: 70.9+ MB\n"
     ]
    }
   ],
   "source": [
    "df.info()"
   ]
  },
  {
   "cell_type": "code",
   "execution_count": 14,
   "metadata": {},
   "outputs": [
    {
     "data": {
      "text/plain": [
       "4275"
      ]
     },
     "execution_count": 14,
     "metadata": {},
     "output_type": "execute_result"
    }
   ],
   "source": [
    "df.Description.isna().sum()"
   ]
  },
  {
   "cell_type": "code",
   "execution_count": 15,
   "metadata": {},
   "outputs": [
    {
     "data": {
      "text/plain": [
       "235151"
      ]
     },
     "execution_count": 15,
     "metadata": {},
     "output_type": "execute_result"
    }
   ],
   "source": [
    "df.Customer_id.isna().sum()"
   ]
  },
  {
   "cell_type": "code",
   "execution_count": 16,
   "metadata": {},
   "outputs": [
    {
     "data": {
      "text/html": [
       "<div>\n",
       "<style scoped>\n",
       "    .dataframe tbody tr th:only-of-type {\n",
       "        vertical-align: middle;\n",
       "    }\n",
       "\n",
       "    .dataframe tbody tr th {\n",
       "        vertical-align: top;\n",
       "    }\n",
       "\n",
       "    .dataframe thead th {\n",
       "        text-align: right;\n",
       "    }\n",
       "</style>\n",
       "<table border=\"1\" class=\"dataframe\">\n",
       "  <thead>\n",
       "    <tr style=\"text-align: right;\">\n",
       "      <th></th>\n",
       "      <th>Invoice</th>\n",
       "      <th>StockCode</th>\n",
       "      <th>Description</th>\n",
       "      <th>Quantity</th>\n",
       "      <th>InvoiceDate</th>\n",
       "      <th>Price</th>\n",
       "      <th>Customer_id</th>\n",
       "      <th>Country</th>\n",
       "    </tr>\n",
       "  </thead>\n",
       "  <tbody>\n",
       "    <tr>\n",
       "      <th>0</th>\n",
       "      <td>489434</td>\n",
       "      <td>85048</td>\n",
       "      <td>15CM CHRISTMAS GLASS BALL 20 LIGHTS</td>\n",
       "      <td>12</td>\n",
       "      <td>2009-12-01 07:45:00</td>\n",
       "      <td>6.95</td>\n",
       "      <td>13085.0</td>\n",
       "      <td>United Kingdom</td>\n",
       "    </tr>\n",
       "    <tr>\n",
       "      <th>1</th>\n",
       "      <td>489434</td>\n",
       "      <td>79323P</td>\n",
       "      <td>PINK CHERRY LIGHTS</td>\n",
       "      <td>12</td>\n",
       "      <td>2009-12-01 07:45:00</td>\n",
       "      <td>6.75</td>\n",
       "      <td>13085.0</td>\n",
       "      <td>United Kingdom</td>\n",
       "    </tr>\n",
       "    <tr>\n",
       "      <th>2</th>\n",
       "      <td>489434</td>\n",
       "      <td>79323W</td>\n",
       "      <td>WHITE CHERRY LIGHTS</td>\n",
       "      <td>12</td>\n",
       "      <td>2009-12-01 07:45:00</td>\n",
       "      <td>6.75</td>\n",
       "      <td>13085.0</td>\n",
       "      <td>United Kingdom</td>\n",
       "    </tr>\n",
       "    <tr>\n",
       "      <th>3</th>\n",
       "      <td>489434</td>\n",
       "      <td>22041</td>\n",
       "      <td>RECORD FRAME 7\" SINGLE SIZE</td>\n",
       "      <td>48</td>\n",
       "      <td>2009-12-01 07:45:00</td>\n",
       "      <td>2.10</td>\n",
       "      <td>13085.0</td>\n",
       "      <td>United Kingdom</td>\n",
       "    </tr>\n",
       "    <tr>\n",
       "      <th>4</th>\n",
       "      <td>489434</td>\n",
       "      <td>21232</td>\n",
       "      <td>STRAWBERRY CERAMIC TRINKET BOX</td>\n",
       "      <td>24</td>\n",
       "      <td>2009-12-01 07:45:00</td>\n",
       "      <td>1.25</td>\n",
       "      <td>13085.0</td>\n",
       "      <td>United Kingdom</td>\n",
       "    </tr>\n",
       "  </tbody>\n",
       "</table>\n",
       "</div>"
      ],
      "text/plain": [
       "  Invoice StockCode                          Description  Quantity  \\\n",
       "0  489434     85048  15CM CHRISTMAS GLASS BALL 20 LIGHTS        12   \n",
       "1  489434    79323P                   PINK CHERRY LIGHTS        12   \n",
       "2  489434    79323W                  WHITE CHERRY LIGHTS        12   \n",
       "3  489434     22041         RECORD FRAME 7\" SINGLE SIZE         48   \n",
       "4  489434     21232       STRAWBERRY CERAMIC TRINKET BOX        24   \n",
       "\n",
       "          InvoiceDate  Price  Customer_id         Country  \n",
       "0 2009-12-01 07:45:00   6.95      13085.0  United Kingdom  \n",
       "1 2009-12-01 07:45:00   6.75      13085.0  United Kingdom  \n",
       "2 2009-12-01 07:45:00   6.75      13085.0  United Kingdom  \n",
       "3 2009-12-01 07:45:00   2.10      13085.0  United Kingdom  \n",
       "4 2009-12-01 07:45:00   1.25      13085.0  United Kingdom  "
      ]
     },
     "execution_count": 16,
     "metadata": {},
     "output_type": "execute_result"
    }
   ],
   "source": [
    "df.head()"
   ]
  },
  {
   "cell_type": "code",
   "execution_count": 17,
   "metadata": {},
   "outputs": [],
   "source": [
    "df = df.dropna()\n"
   ]
  },
  {
   "cell_type": "code",
   "execution_count": 18,
   "metadata": {},
   "outputs": [
    {
     "data": {
      "text/plain": [
       "(797885, 8)"
      ]
     },
     "execution_count": 18,
     "metadata": {},
     "output_type": "execute_result"
    }
   ],
   "source": [
    "df.shape"
   ]
  },
  {
   "cell_type": "code",
   "execution_count": 19,
   "metadata": {},
   "outputs": [
    {
     "data": {
      "text/html": [
       "<div>\n",
       "<style scoped>\n",
       "    .dataframe tbody tr th:only-of-type {\n",
       "        vertical-align: middle;\n",
       "    }\n",
       "\n",
       "    .dataframe tbody tr th {\n",
       "        vertical-align: top;\n",
       "    }\n",
       "\n",
       "    .dataframe thead th {\n",
       "        text-align: right;\n",
       "    }\n",
       "</style>\n",
       "<table border=\"1\" class=\"dataframe\">\n",
       "  <thead>\n",
       "    <tr style=\"text-align: right;\">\n",
       "      <th></th>\n",
       "      <th>Invoice</th>\n",
       "      <th>StockCode</th>\n",
       "      <th>Description</th>\n",
       "      <th>Quantity</th>\n",
       "      <th>InvoiceDate</th>\n",
       "      <th>Price</th>\n",
       "      <th>Customer_id</th>\n",
       "      <th>Country</th>\n",
       "    </tr>\n",
       "  </thead>\n",
       "  <tbody>\n",
       "    <tr>\n",
       "      <th>0</th>\n",
       "      <td>489434</td>\n",
       "      <td>85048</td>\n",
       "      <td>15CM CHRISTMAS GLASS BALL 20 LIGHTS</td>\n",
       "      <td>12</td>\n",
       "      <td>2009-12-01 07:45:00</td>\n",
       "      <td>6.95</td>\n",
       "      <td>13085.0</td>\n",
       "      <td>United Kingdom</td>\n",
       "    </tr>\n",
       "    <tr>\n",
       "      <th>1</th>\n",
       "      <td>489434</td>\n",
       "      <td>79323P</td>\n",
       "      <td>PINK CHERRY LIGHTS</td>\n",
       "      <td>12</td>\n",
       "      <td>2009-12-01 07:45:00</td>\n",
       "      <td>6.75</td>\n",
       "      <td>13085.0</td>\n",
       "      <td>United Kingdom</td>\n",
       "    </tr>\n",
       "    <tr>\n",
       "      <th>2</th>\n",
       "      <td>489434</td>\n",
       "      <td>79323W</td>\n",
       "      <td>WHITE CHERRY LIGHTS</td>\n",
       "      <td>12</td>\n",
       "      <td>2009-12-01 07:45:00</td>\n",
       "      <td>6.75</td>\n",
       "      <td>13085.0</td>\n",
       "      <td>United Kingdom</td>\n",
       "    </tr>\n",
       "    <tr>\n",
       "      <th>3</th>\n",
       "      <td>489434</td>\n",
       "      <td>22041</td>\n",
       "      <td>RECORD FRAME 7\" SINGLE SIZE</td>\n",
       "      <td>48</td>\n",
       "      <td>2009-12-01 07:45:00</td>\n",
       "      <td>2.10</td>\n",
       "      <td>13085.0</td>\n",
       "      <td>United Kingdom</td>\n",
       "    </tr>\n",
       "    <tr>\n",
       "      <th>4</th>\n",
       "      <td>489434</td>\n",
       "      <td>21232</td>\n",
       "      <td>STRAWBERRY CERAMIC TRINKET BOX</td>\n",
       "      <td>24</td>\n",
       "      <td>2009-12-01 07:45:00</td>\n",
       "      <td>1.25</td>\n",
       "      <td>13085.0</td>\n",
       "      <td>United Kingdom</td>\n",
       "    </tr>\n",
       "    <tr>\n",
       "      <th>5</th>\n",
       "      <td>489434</td>\n",
       "      <td>22064</td>\n",
       "      <td>PINK DOUGHNUT TRINKET POT</td>\n",
       "      <td>24</td>\n",
       "      <td>2009-12-01 07:45:00</td>\n",
       "      <td>1.65</td>\n",
       "      <td>13085.0</td>\n",
       "      <td>United Kingdom</td>\n",
       "    </tr>\n",
       "    <tr>\n",
       "      <th>6</th>\n",
       "      <td>489434</td>\n",
       "      <td>21871</td>\n",
       "      <td>SAVE THE PLANET MUG</td>\n",
       "      <td>24</td>\n",
       "      <td>2009-12-01 07:45:00</td>\n",
       "      <td>1.25</td>\n",
       "      <td>13085.0</td>\n",
       "      <td>United Kingdom</td>\n",
       "    </tr>\n",
       "    <tr>\n",
       "      <th>7</th>\n",
       "      <td>489434</td>\n",
       "      <td>21523</td>\n",
       "      <td>FANCY FONT HOME SWEET HOME DOORMAT</td>\n",
       "      <td>10</td>\n",
       "      <td>2009-12-01 07:45:00</td>\n",
       "      <td>5.95</td>\n",
       "      <td>13085.0</td>\n",
       "      <td>United Kingdom</td>\n",
       "    </tr>\n",
       "    <tr>\n",
       "      <th>8</th>\n",
       "      <td>489435</td>\n",
       "      <td>22350</td>\n",
       "      <td>CAT BOWL</td>\n",
       "      <td>12</td>\n",
       "      <td>2009-12-01 07:46:00</td>\n",
       "      <td>2.55</td>\n",
       "      <td>13085.0</td>\n",
       "      <td>United Kingdom</td>\n",
       "    </tr>\n",
       "    <tr>\n",
       "      <th>9</th>\n",
       "      <td>489435</td>\n",
       "      <td>22349</td>\n",
       "      <td>DOG BOWL , CHASING BALL DESIGN</td>\n",
       "      <td>12</td>\n",
       "      <td>2009-12-01 07:46:00</td>\n",
       "      <td>3.75</td>\n",
       "      <td>13085.0</td>\n",
       "      <td>United Kingdom</td>\n",
       "    </tr>\n",
       "    <tr>\n",
       "      <th>10</th>\n",
       "      <td>489435</td>\n",
       "      <td>22195</td>\n",
       "      <td>HEART MEASURING SPOONS LARGE</td>\n",
       "      <td>24</td>\n",
       "      <td>2009-12-01 07:46:00</td>\n",
       "      <td>1.65</td>\n",
       "      <td>13085.0</td>\n",
       "      <td>United Kingdom</td>\n",
       "    </tr>\n",
       "    <tr>\n",
       "      <th>11</th>\n",
       "      <td>489435</td>\n",
       "      <td>22353</td>\n",
       "      <td>LUNCHBOX WITH CUTLERY FAIRY CAKES</td>\n",
       "      <td>12</td>\n",
       "      <td>2009-12-01 07:46:00</td>\n",
       "      <td>2.55</td>\n",
       "      <td>13085.0</td>\n",
       "      <td>United Kingdom</td>\n",
       "    </tr>\n",
       "    <tr>\n",
       "      <th>12</th>\n",
       "      <td>489436</td>\n",
       "      <td>48173C</td>\n",
       "      <td>DOOR MAT BLACK FLOCK</td>\n",
       "      <td>10</td>\n",
       "      <td>2009-12-01 09:06:00</td>\n",
       "      <td>5.95</td>\n",
       "      <td>13078.0</td>\n",
       "      <td>United Kingdom</td>\n",
       "    </tr>\n",
       "    <tr>\n",
       "      <th>13</th>\n",
       "      <td>489436</td>\n",
       "      <td>21755</td>\n",
       "      <td>LOVE BUILDING BLOCK WORD</td>\n",
       "      <td>18</td>\n",
       "      <td>2009-12-01 09:06:00</td>\n",
       "      <td>5.45</td>\n",
       "      <td>13078.0</td>\n",
       "      <td>United Kingdom</td>\n",
       "    </tr>\n",
       "    <tr>\n",
       "      <th>14</th>\n",
       "      <td>489436</td>\n",
       "      <td>21754</td>\n",
       "      <td>HOME BUILDING BLOCK WORD</td>\n",
       "      <td>3</td>\n",
       "      <td>2009-12-01 09:06:00</td>\n",
       "      <td>5.95</td>\n",
       "      <td>13078.0</td>\n",
       "      <td>United Kingdom</td>\n",
       "    </tr>\n",
       "    <tr>\n",
       "      <th>15</th>\n",
       "      <td>489436</td>\n",
       "      <td>84879</td>\n",
       "      <td>ASSORTED COLOUR BIRD ORNAMENT</td>\n",
       "      <td>16</td>\n",
       "      <td>2009-12-01 09:06:00</td>\n",
       "      <td>1.69</td>\n",
       "      <td>13078.0</td>\n",
       "      <td>United Kingdom</td>\n",
       "    </tr>\n",
       "    <tr>\n",
       "      <th>16</th>\n",
       "      <td>489436</td>\n",
       "      <td>22119</td>\n",
       "      <td>PEACE WOODEN BLOCK LETTERS</td>\n",
       "      <td>3</td>\n",
       "      <td>2009-12-01 09:06:00</td>\n",
       "      <td>6.95</td>\n",
       "      <td>13078.0</td>\n",
       "      <td>United Kingdom</td>\n",
       "    </tr>\n",
       "    <tr>\n",
       "      <th>17</th>\n",
       "      <td>489436</td>\n",
       "      <td>22142</td>\n",
       "      <td>CHRISTMAS CRAFT WHITE FAIRY</td>\n",
       "      <td>12</td>\n",
       "      <td>2009-12-01 09:06:00</td>\n",
       "      <td>1.45</td>\n",
       "      <td>13078.0</td>\n",
       "      <td>United Kingdom</td>\n",
       "    </tr>\n",
       "    <tr>\n",
       "      <th>18</th>\n",
       "      <td>489436</td>\n",
       "      <td>22296</td>\n",
       "      <td>HEART IVORY TRELLIS LARGE</td>\n",
       "      <td>12</td>\n",
       "      <td>2009-12-01 09:06:00</td>\n",
       "      <td>1.65</td>\n",
       "      <td>13078.0</td>\n",
       "      <td>United Kingdom</td>\n",
       "    </tr>\n",
       "    <tr>\n",
       "      <th>19</th>\n",
       "      <td>489436</td>\n",
       "      <td>22295</td>\n",
       "      <td>HEART FILIGREE DOVE LARGE</td>\n",
       "      <td>12</td>\n",
       "      <td>2009-12-01 09:06:00</td>\n",
       "      <td>1.65</td>\n",
       "      <td>13078.0</td>\n",
       "      <td>United Kingdom</td>\n",
       "    </tr>\n",
       "  </tbody>\n",
       "</table>\n",
       "</div>"
      ],
      "text/plain": [
       "   Invoice StockCode                          Description  Quantity  \\\n",
       "0   489434     85048  15CM CHRISTMAS GLASS BALL 20 LIGHTS        12   \n",
       "1   489434    79323P                   PINK CHERRY LIGHTS        12   \n",
       "2   489434    79323W                  WHITE CHERRY LIGHTS        12   \n",
       "3   489434     22041         RECORD FRAME 7\" SINGLE SIZE         48   \n",
       "4   489434     21232       STRAWBERRY CERAMIC TRINKET BOX        24   \n",
       "5   489434     22064           PINK DOUGHNUT TRINKET POT         24   \n",
       "6   489434     21871                  SAVE THE PLANET MUG        24   \n",
       "7   489434     21523   FANCY FONT HOME SWEET HOME DOORMAT        10   \n",
       "8   489435     22350                            CAT BOWL         12   \n",
       "9   489435     22349       DOG BOWL , CHASING BALL DESIGN        12   \n",
       "10  489435     22195         HEART MEASURING SPOONS LARGE        24   \n",
       "11  489435     22353   LUNCHBOX WITH CUTLERY FAIRY CAKES         12   \n",
       "12  489436    48173C                DOOR MAT BLACK FLOCK         10   \n",
       "13  489436     21755             LOVE BUILDING BLOCK WORD        18   \n",
       "14  489436     21754             HOME BUILDING BLOCK WORD         3   \n",
       "15  489436     84879        ASSORTED COLOUR BIRD ORNAMENT        16   \n",
       "16  489436     22119           PEACE WOODEN BLOCK LETTERS         3   \n",
       "17  489436     22142         CHRISTMAS CRAFT WHITE FAIRY         12   \n",
       "18  489436     22296            HEART IVORY TRELLIS LARGE        12   \n",
       "19  489436     22295            HEART FILIGREE DOVE LARGE        12   \n",
       "\n",
       "           InvoiceDate  Price  Customer_id         Country  \n",
       "0  2009-12-01 07:45:00   6.95      13085.0  United Kingdom  \n",
       "1  2009-12-01 07:45:00   6.75      13085.0  United Kingdom  \n",
       "2  2009-12-01 07:45:00   6.75      13085.0  United Kingdom  \n",
       "3  2009-12-01 07:45:00   2.10      13085.0  United Kingdom  \n",
       "4  2009-12-01 07:45:00   1.25      13085.0  United Kingdom  \n",
       "5  2009-12-01 07:45:00   1.65      13085.0  United Kingdom  \n",
       "6  2009-12-01 07:45:00   1.25      13085.0  United Kingdom  \n",
       "7  2009-12-01 07:45:00   5.95      13085.0  United Kingdom  \n",
       "8  2009-12-01 07:46:00   2.55      13085.0  United Kingdom  \n",
       "9  2009-12-01 07:46:00   3.75      13085.0  United Kingdom  \n",
       "10 2009-12-01 07:46:00   1.65      13085.0  United Kingdom  \n",
       "11 2009-12-01 07:46:00   2.55      13085.0  United Kingdom  \n",
       "12 2009-12-01 09:06:00   5.95      13078.0  United Kingdom  \n",
       "13 2009-12-01 09:06:00   5.45      13078.0  United Kingdom  \n",
       "14 2009-12-01 09:06:00   5.95      13078.0  United Kingdom  \n",
       "15 2009-12-01 09:06:00   1.69      13078.0  United Kingdom  \n",
       "16 2009-12-01 09:06:00   6.95      13078.0  United Kingdom  \n",
       "17 2009-12-01 09:06:00   1.45      13078.0  United Kingdom  \n",
       "18 2009-12-01 09:06:00   1.65      13078.0  United Kingdom  \n",
       "19 2009-12-01 09:06:00   1.65      13078.0  United Kingdom  "
      ]
     },
     "execution_count": 19,
     "metadata": {},
     "output_type": "execute_result"
    }
   ],
   "source": [
    "df.head(20)"
   ]
  },
  {
   "cell_type": "code",
   "execution_count": 20,
   "metadata": {},
   "outputs": [
    {
     "data": {
      "text/plain": [
       "United Kingdom          716115\n",
       "Germany                  17339\n",
       "EIRE                     16014\n",
       "France                   13897\n",
       "Netherlands               5137\n",
       "Spain                     3754\n",
       "Belgium                   3110\n",
       "Switzerland               3058\n",
       "Portugal                  2414\n",
       "Australia                 1890\n",
       "Channel Islands           1646\n",
       "Italy                     1507\n",
       "Sweden                    1343\n",
       "Norway                    1308\n",
       "Cyprus                    1157\n",
       "Finland                   1049\n",
       "Austria                    938\n",
       "Denmark                    797\n",
       "Greece                     663\n",
       "Japan                      565\n",
       "USA                        535\n",
       "Poland                     527\n",
       "Unspecified                521\n",
       "United Arab Emirates       386\n",
       "Singapore                  346\n",
       "Israel                     321\n",
       "Malta                      299\n",
       "Canada                     228\n",
       "Iceland                    222\n",
       "Lithuania                  154\n",
       "RSA                        123\n",
       "Brazil                      94\n",
       "Thailand                    76\n",
       "Korea                       63\n",
       "European Community          61\n",
       "Bahrain                     59\n",
       "West Indies                 54\n",
       "Lebanon                     45\n",
       "Czech Republic              30\n",
       "Nigeria                     30\n",
       "Saudi Arabia                10\n",
       "Name: Country, dtype: int64"
      ]
     },
     "execution_count": 20,
     "metadata": {},
     "output_type": "execute_result"
    }
   ],
   "source": [
    "df.Country.value_counts()"
   ]
  },
  {
   "cell_type": "code",
   "execution_count": 21,
   "metadata": {},
   "outputs": [
    {
     "data": {
      "image/png": "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",
      "text/plain": [
       "<Figure size 640x480 with 1 Axes>"
      ]
     },
     "metadata": {},
     "output_type": "display_data"
    }
   ],
   "source": [
    "import matplotlib.pyplot as plt\n",
    "\n",
    "country_counts = df['Country'].value_counts()\n",
    "\n",
    "plt.bar(country_counts.index, country_counts.values)\n",
    "plt.xlabel('Country')\n",
    "plt.ylabel('Count')\n",
    "plt.title('Distribution of Customers by Country')\n",
    "plt.xticks(rotation=90)  # Rotation des étiquettes des pays pour une meilleure lisibilité\n",
    "plt.show()\n",
    "\n"
   ]
  },
  {
   "cell_type": "code",
   "execution_count": 22,
   "metadata": {},
   "outputs": [
    {
     "data": {
      "text/plain": [
       "44876"
      ]
     },
     "execution_count": 22,
     "metadata": {},
     "output_type": "execute_result"
    }
   ],
   "source": [
    "len(df.Invoice.unique())"
   ]
  },
  {
   "cell_type": "code",
   "execution_count": 23,
   "metadata": {},
   "outputs": [],
   "source": [
    "df['InvoiceDate'] = pd.to_datetime(df['InvoiceDate'])"
   ]
  },
  {
   "cell_type": "code",
   "execution_count": 24,
   "metadata": {},
   "outputs": [],
   "source": [
    "df['Month'] = df['InvoiceDate'].dt.month"
   ]
  },
  {
   "cell_type": "code",
   "execution_count": 25,
   "metadata": {},
   "outputs": [
    {
     "data": {
      "text/plain": [
       "0         12\n",
       "1         12\n",
       "2         12\n",
       "3         12\n",
       "4         12\n",
       "          ..\n",
       "541905    12\n",
       "541906    12\n",
       "541907    12\n",
       "541908    12\n",
       "541909    12\n",
       "Name: Month, Length: 797885, dtype: int64"
      ]
     },
     "execution_count": 25,
     "metadata": {},
     "output_type": "execute_result"
    }
   ],
   "source": [
    "df.Month"
   ]
  },
  {
   "cell_type": "code",
   "execution_count": 26,
   "metadata": {},
   "outputs": [],
   "source": [
    "quantity_by_month = df.groupby('Month')['Quantity'].sum()\n"
   ]
  },
  {
   "cell_type": "code",
   "execution_count": 27,
   "metadata": {},
   "outputs": [
    {
     "data": {
      "image/png": "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",
      "text/plain": [
       "<Figure size 640x480 with 1 Axes>"
      ]
     },
     "metadata": {},
     "output_type": "display_data"
    }
   ],
   "source": [
    "import pandas as pd\n",
    "import matplotlib.pyplot as plt\n",
    "\n",
    "\n",
    "# Calculer la somme de la quantité par mois\n",
    "\n",
    "\n",
    "# Créer l'histogramme\n",
    "plt.bar(quantity_by_month.index, quantity_by_month.values)\n",
    "plt.xlabel('Month')\n",
    "plt.ylabel('Quantity')\n",
    "plt.title('Quantity of Products Purchased by Month (Negative Values)')\n",
    "plt.show()\n"
   ]
  },
  {
   "attachments": {},
   "cell_type": "markdown",
   "metadata": {},
   "source": [
    "# Valeurs Extremes"
   ]
  },
  {
   "attachments": {},
   "cell_type": "markdown",
   "metadata": {},
   "source": [
    "So if you think you need to remove them, I would rather remove them first, or use an algorithm that is more robust to noise. For example k medians is more robust and very similar to k-means, or you use DBSCAN.\n",
    "\n",
    "\n",
    "Remove outlier first and then apply your clustering algorithm (for this step itself you may use clustering algorithms!). Please note that k-means itself is not a Soft Clustering algorithm so it does not model the overlaps. For that you may use algorithms like Fuzzy C-Means. There you can define an overlap by clusters for which the memberships of a sample are closer than a threshold.\n",
    "\n",
    "Ignore the outlier removal and just use more robust variations of K-means, e.g. K-medoids or K-Medians, to reduce the effect of outliers.\n"
   ]
  },
  {
   "cell_type": "code",
   "execution_count": 28,
   "metadata": {},
   "outputs": [
    {
     "data": {
      "text/html": [
       "<div>\n",
       "<style scoped>\n",
       "    .dataframe tbody tr th:only-of-type {\n",
       "        vertical-align: middle;\n",
       "    }\n",
       "\n",
       "    .dataframe tbody tr th {\n",
       "        vertical-align: top;\n",
       "    }\n",
       "\n",
       "    .dataframe thead th {\n",
       "        text-align: right;\n",
       "    }\n",
       "</style>\n",
       "<table border=\"1\" class=\"dataframe\">\n",
       "  <thead>\n",
       "    <tr style=\"text-align: right;\">\n",
       "      <th></th>\n",
       "      <th>Quantity</th>\n",
       "      <th>Price</th>\n",
       "      <th>Customer_id</th>\n",
       "      <th>Month</th>\n",
       "    </tr>\n",
       "  </thead>\n",
       "  <tbody>\n",
       "    <tr>\n",
       "      <th>count</th>\n",
       "      <td>797885.000000</td>\n",
       "      <td>797885.000000</td>\n",
       "      <td>797885.000000</td>\n",
       "      <td>797885.000000</td>\n",
       "    </tr>\n",
       "    <tr>\n",
       "      <th>mean</th>\n",
       "      <td>12.602980</td>\n",
       "      <td>3.702732</td>\n",
       "      <td>15313.062777</td>\n",
       "      <td>7.411434</td>\n",
       "    </tr>\n",
       "    <tr>\n",
       "      <th>std</th>\n",
       "      <td>191.670371</td>\n",
       "      <td>71.392549</td>\n",
       "      <td>1696.466663</td>\n",
       "      <td>3.424495</td>\n",
       "    </tr>\n",
       "    <tr>\n",
       "      <th>min</th>\n",
       "      <td>-80995.000000</td>\n",
       "      <td>0.000000</td>\n",
       "      <td>12346.000000</td>\n",
       "      <td>1.000000</td>\n",
       "    </tr>\n",
       "    <tr>\n",
       "      <th>25%</th>\n",
       "      <td>2.000000</td>\n",
       "      <td>1.250000</td>\n",
       "      <td>13964.000000</td>\n",
       "      <td>5.000000</td>\n",
       "    </tr>\n",
       "    <tr>\n",
       "      <th>50%</th>\n",
       "      <td>5.000000</td>\n",
       "      <td>1.950000</td>\n",
       "      <td>15228.000000</td>\n",
       "      <td>8.000000</td>\n",
       "    </tr>\n",
       "    <tr>\n",
       "      <th>75%</th>\n",
       "      <td>12.000000</td>\n",
       "      <td>3.750000</td>\n",
       "      <td>16788.000000</td>\n",
       "      <td>10.000000</td>\n",
       "    </tr>\n",
       "    <tr>\n",
       "      <th>max</th>\n",
       "      <td>80995.000000</td>\n",
       "      <td>38970.000000</td>\n",
       "      <td>18287.000000</td>\n",
       "      <td>12.000000</td>\n",
       "    </tr>\n",
       "  </tbody>\n",
       "</table>\n",
       "</div>"
      ],
      "text/plain": [
       "            Quantity          Price    Customer_id          Month\n",
       "count  797885.000000  797885.000000  797885.000000  797885.000000\n",
       "mean       12.602980       3.702732   15313.062777       7.411434\n",
       "std       191.670371      71.392549    1696.466663       3.424495\n",
       "min    -80995.000000       0.000000   12346.000000       1.000000\n",
       "25%         2.000000       1.250000   13964.000000       5.000000\n",
       "50%         5.000000       1.950000   15228.000000       8.000000\n",
       "75%        12.000000       3.750000   16788.000000      10.000000\n",
       "max     80995.000000   38970.000000   18287.000000      12.000000"
      ]
     },
     "execution_count": 28,
     "metadata": {},
     "output_type": "execute_result"
    }
   ],
   "source": [
    "df.describe()"
   ]
  },
  {
   "attachments": {},
   "cell_type": "markdown",
   "metadata": {},
   "source": [
    "# RFM "
   ]
  },
  {
   "attachments": {},
   "cell_type": "markdown",
   "metadata": {},
   "source": [
    "La métrique RFM (Récence, Fréquence, Montant) est une méthode d'analyse utilisée dans le domaine du marketing et de la gestion de la relation client. Elle permet de segmenter et d'évaluer la valeur des clients en fonction de trois critères principaux :\n",
    "\n",
    "    Récence (Recency) : Cette mesure évalue depuis combien de temps un client n'a pas effectué d'activité ou d'achat. Plus la récence est faible, c'est-à-dire plus le client a interagi récemment avec l'entreprise, plus il est considéré comme actif et potentiellement précieux.\n",
    "\n",
    "    Fréquence (Frequency) : Cette mesure évalue la fréquence à laquelle un client effectue des activités ou des achats. Les clients qui interagissent plus souvent avec l'entreprise sont généralement considérés comme plus engagés et fidèles.\n",
    "\n",
    "    Montant (Monetary) : Cette mesure évalue la valeur monétaire des activités ou des achats effectués par un client. Elle prend en compte le montant total dépensé par le client sur une période donnée. Les clients qui dépensent davantage sont souvent considérés comme plus précieux pour l'entreprise.\n",
    "\n",
    "En combinant ces trois mesures, on peut créer des segments de clients plus pertinents et ciblés. Par exemple, un segment \"VIP\" pourrait être composé de clients récents, fréquents et à haut montant, tandis qu'un segment \"à réactiver\" pourrait inclure des clients moins actifs sur une longue période.\n",
    "\n",
    "La métrique RFM permet aux entreprises de mieux comprendre le comportement et la valeur de leurs clients, ce qui leur permet de personnaliser leurs stratégies de marketing, de fidélisation et de service client. Elle est souvent utilisée en conjonction avec des techniques de segmentation et d'analyse de données pour prendre des décisions plus éclairées et optimiser les efforts de marketing et de gestion de la relation client.\n",
    "Lien : https://www.kaggle.com/code/ahmetokanyilmaz/customer-segmentation-with-rfm?scriptVersionId=89838290&cellId=6"
   ]
  },
  {
   "cell_type": "code",
<<<<<<< HEAD
   "execution_count": 29,
=======
   "execution_count": 129,
>>>>>>> origin/ahmad
   "metadata": {},
   "outputs": [],
   "source": [
    "df[\"TotalPrice\"] = df[\"Quantity\"] * df[\"Price\"]"
   ]
  },
  {
   "cell_type": "code",
<<<<<<< HEAD
   "execution_count": 30,
=======
   "execution_count": 131,
>>>>>>> origin/ahmad
   "metadata": {},
   "outputs": [
    {
     "data": {
      "text/html": [
       "<div>\n",
       "<style scoped>\n",
       "    .dataframe tbody tr th:only-of-type {\n",
       "        vertical-align: middle;\n",
       "    }\n",
       "\n",
       "    .dataframe tbody tr th {\n",
       "        vertical-align: top;\n",
       "    }\n",
       "\n",
       "    .dataframe thead th {\n",
       "        text-align: right;\n",
       "    }\n",
       "</style>\n",
       "<table border=\"1\" class=\"dataframe\">\n",
       "  <thead>\n",
       "    <tr style=\"text-align: right;\">\n",
       "      <th></th>\n",
       "      <th>Invoice</th>\n",
       "      <th>StockCode</th>\n",
       "      <th>Description</th>\n",
       "      <th>Quantity</th>\n",
       "      <th>InvoiceDate</th>\n",
       "      <th>Price</th>\n",
       "      <th>Customer_id</th>\n",
       "      <th>Country</th>\n",
       "      <th>Month</th>\n",
       "      <th>TotalPrice</th>\n",
       "    </tr>\n",
       "  </thead>\n",
       "  <tbody>\n",
       "    <tr>\n",
       "      <th>0</th>\n",
       "      <td>489434</td>\n",
       "      <td>85048</td>\n",
       "      <td>15CM CHRISTMAS GLASS BALL 20 LIGHTS</td>\n",
       "      <td>12</td>\n",
       "      <td>2009-12-01 07:45:00</td>\n",
       "      <td>6.95</td>\n",
       "      <td>13085.0</td>\n",
       "      <td>United Kingdom</td>\n",
       "      <td>12</td>\n",
       "      <td>83.40</td>\n",
       "    </tr>\n",
       "    <tr>\n",
       "      <th>1</th>\n",
       "      <td>489434</td>\n",
       "      <td>79323P</td>\n",
       "      <td>PINK CHERRY LIGHTS</td>\n",
       "      <td>12</td>\n",
       "      <td>2009-12-01 07:45:00</td>\n",
       "      <td>6.75</td>\n",
       "      <td>13085.0</td>\n",
       "      <td>United Kingdom</td>\n",
       "      <td>12</td>\n",
       "      <td>81.00</td>\n",
       "    </tr>\n",
       "    <tr>\n",
       "      <th>2</th>\n",
       "      <td>489434</td>\n",
       "      <td>79323W</td>\n",
       "      <td>WHITE CHERRY LIGHTS</td>\n",
       "      <td>12</td>\n",
       "      <td>2009-12-01 07:45:00</td>\n",
       "      <td>6.75</td>\n",
       "      <td>13085.0</td>\n",
       "      <td>United Kingdom</td>\n",
       "      <td>12</td>\n",
       "      <td>81.00</td>\n",
       "    </tr>\n",
       "    <tr>\n",
       "      <th>3</th>\n",
       "      <td>489434</td>\n",
       "      <td>22041</td>\n",
       "      <td>RECORD FRAME 7\" SINGLE SIZE</td>\n",
       "      <td>48</td>\n",
       "      <td>2009-12-01 07:45:00</td>\n",
       "      <td>2.10</td>\n",
       "      <td>13085.0</td>\n",
       "      <td>United Kingdom</td>\n",
       "      <td>12</td>\n",
       "      <td>100.80</td>\n",
       "    </tr>\n",
       "    <tr>\n",
       "      <th>4</th>\n",
       "      <td>489434</td>\n",
       "      <td>21232</td>\n",
       "      <td>STRAWBERRY CERAMIC TRINKET BOX</td>\n",
       "      <td>24</td>\n",
       "      <td>2009-12-01 07:45:00</td>\n",
       "      <td>1.25</td>\n",
       "      <td>13085.0</td>\n",
       "      <td>United Kingdom</td>\n",
       "      <td>12</td>\n",
       "      <td>30.00</td>\n",
       "    </tr>\n",
       "    <tr>\n",
       "      <th>...</th>\n",
       "      <td>...</td>\n",
       "      <td>...</td>\n",
       "      <td>...</td>\n",
       "      <td>...</td>\n",
       "      <td>...</td>\n",
       "      <td>...</td>\n",
       "      <td>...</td>\n",
       "      <td>...</td>\n",
       "      <td>...</td>\n",
       "      <td>...</td>\n",
       "    </tr>\n",
       "    <tr>\n",
       "      <th>541905</th>\n",
       "      <td>581587</td>\n",
       "      <td>22899</td>\n",
       "      <td>CHILDREN'S APRON DOLLY GIRL</td>\n",
       "      <td>6</td>\n",
       "      <td>2011-12-09 12:50:00</td>\n",
       "      <td>2.10</td>\n",
       "      <td>12680.0</td>\n",
       "      <td>France</td>\n",
       "      <td>12</td>\n",
       "      <td>12.60</td>\n",
       "    </tr>\n",
       "    <tr>\n",
       "      <th>541906</th>\n",
       "      <td>581587</td>\n",
       "      <td>23254</td>\n",
       "      <td>CHILDRENS CUTLERY DOLLY GIRL</td>\n",
       "      <td>4</td>\n",
       "      <td>2011-12-09 12:50:00</td>\n",
       "      <td>4.15</td>\n",
       "      <td>12680.0</td>\n",
       "      <td>France</td>\n",
       "      <td>12</td>\n",
       "      <td>16.60</td>\n",
       "    </tr>\n",
       "    <tr>\n",
       "      <th>541907</th>\n",
       "      <td>581587</td>\n",
       "      <td>23255</td>\n",
       "      <td>CHILDRENS CUTLERY CIRCUS PARADE</td>\n",
       "      <td>4</td>\n",
       "      <td>2011-12-09 12:50:00</td>\n",
       "      <td>4.15</td>\n",
       "      <td>12680.0</td>\n",
       "      <td>France</td>\n",
       "      <td>12</td>\n",
       "      <td>16.60</td>\n",
       "    </tr>\n",
       "    <tr>\n",
       "      <th>541908</th>\n",
       "      <td>581587</td>\n",
       "      <td>22138</td>\n",
       "      <td>BAKING SET 9 PIECE RETROSPOT</td>\n",
       "      <td>3</td>\n",
       "      <td>2011-12-09 12:50:00</td>\n",
       "      <td>4.95</td>\n",
       "      <td>12680.0</td>\n",
       "      <td>France</td>\n",
       "      <td>12</td>\n",
       "      <td>14.85</td>\n",
       "    </tr>\n",
       "    <tr>\n",
       "      <th>541909</th>\n",
       "      <td>581587</td>\n",
       "      <td>POST</td>\n",
       "      <td>POSTAGE</td>\n",
       "      <td>1</td>\n",
       "      <td>2011-12-09 12:50:00</td>\n",
       "      <td>18.00</td>\n",
       "      <td>12680.0</td>\n",
       "      <td>France</td>\n",
       "      <td>12</td>\n",
       "      <td>18.00</td>\n",
       "    </tr>\n",
       "  </tbody>\n",
       "</table>\n",
       "<p>797885 rows × 10 columns</p>\n",
       "</div>"
      ],
      "text/plain": [
       "       Invoice StockCode                          Description  Quantity  \\\n",
       "0       489434     85048  15CM CHRISTMAS GLASS BALL 20 LIGHTS        12   \n",
       "1       489434    79323P                   PINK CHERRY LIGHTS        12   \n",
       "2       489434    79323W                  WHITE CHERRY LIGHTS        12   \n",
       "3       489434     22041         RECORD FRAME 7\" SINGLE SIZE         48   \n",
       "4       489434     21232       STRAWBERRY CERAMIC TRINKET BOX        24   \n",
       "...        ...       ...                                  ...       ...   \n",
       "541905  581587     22899         CHILDREN'S APRON DOLLY GIRL          6   \n",
       "541906  581587     23254        CHILDRENS CUTLERY DOLLY GIRL          4   \n",
       "541907  581587     23255      CHILDRENS CUTLERY CIRCUS PARADE         4   \n",
       "541908  581587     22138        BAKING SET 9 PIECE RETROSPOT          3   \n",
       "541909  581587      POST                              POSTAGE         1   \n",
       "\n",
       "               InvoiceDate  Price  Customer_id         Country  Month  \\\n",
       "0      2009-12-01 07:45:00   6.95      13085.0  United Kingdom     12   \n",
       "1      2009-12-01 07:45:00   6.75      13085.0  United Kingdom     12   \n",
       "2      2009-12-01 07:45:00   6.75      13085.0  United Kingdom     12   \n",
       "3      2009-12-01 07:45:00   2.10      13085.0  United Kingdom     12   \n",
       "4      2009-12-01 07:45:00   1.25      13085.0  United Kingdom     12   \n",
       "...                    ...    ...          ...             ...    ...   \n",
       "541905 2011-12-09 12:50:00   2.10      12680.0          France     12   \n",
       "541906 2011-12-09 12:50:00   4.15      12680.0          France     12   \n",
       "541907 2011-12-09 12:50:00   4.15      12680.0          France     12   \n",
       "541908 2011-12-09 12:50:00   4.95      12680.0          France     12   \n",
       "541909 2011-12-09 12:50:00  18.00      12680.0          France     12   \n",
       "\n",
       "        TotalPrice  \n",
       "0            83.40  \n",
       "1            81.00  \n",
       "2            81.00  \n",
       "3           100.80  \n",
       "4            30.00  \n",
       "...            ...  \n",
       "541905       12.60  \n",
       "541906       16.60  \n",
       "541907       16.60  \n",
       "541908       14.85  \n",
       "541909       18.00  \n",
       "\n",
       "[797885 rows x 10 columns]"
      ]
     },
<<<<<<< HEAD
     "execution_count": 30,
=======
     "execution_count": 131,
>>>>>>> origin/ahmad
     "metadata": {},
     "output_type": "execute_result"
    }
   ],
   "source": [
    "df\n"
   ]
  },
  {
   "cell_type": "code",
<<<<<<< HEAD
   "execution_count": 31,
=======
   "execution_count": 136,
   "metadata": {},
   "outputs": [
    {
     "data": {
      "text/plain": [
       "44876"
      ]
     },
     "execution_count": 136,
     "metadata": {},
     "output_type": "execute_result"
    }
   ],
   "source": [
    "df.Invoice.nunique()"
   ]
  },
  {
   "cell_type": "code",
   "execution_count": 135,
>>>>>>> origin/ahmad
   "metadata": {},
   "outputs": [
    {
     "data": {
      "text/html": [
       "<div>\n",
       "<style scoped>\n",
       "    .dataframe tbody tr th:only-of-type {\n",
       "        vertical-align: middle;\n",
       "    }\n",
       "\n",
       "    .dataframe tbody tr th {\n",
       "        vertical-align: top;\n",
       "    }\n",
       "\n",
       "    .dataframe thead th {\n",
       "        text-align: right;\n",
       "    }\n",
       "</style>\n",
       "<table border=\"1\" class=\"dataframe\">\n",
       "  <thead>\n",
       "    <tr style=\"text-align: right;\">\n",
       "      <th></th>\n",
       "      <th>Invoice</th>\n",
       "      <th>StockCode</th>\n",
       "      <th>Description</th>\n",
       "      <th>Quantity</th>\n",
       "      <th>InvoiceDate</th>\n",
       "      <th>Price</th>\n",
       "      <th>Customer_id</th>\n",
       "      <th>Country</th>\n",
       "      <th>Month</th>\n",
       "      <th>TotalPrice</th>\n",
       "    </tr>\n",
       "  </thead>\n",
       "  <tbody>\n",
       "  </tbody>\n",
       "</table>\n",
       "</div>"
      ],
      "text/plain": [
       "Empty DataFrame\n",
       "Columns: [Invoice, StockCode, Description, Quantity, InvoiceDate, Price, Customer_id, Country, Month, TotalPrice]\n",
       "Index: []"
      ]
     },
<<<<<<< HEAD
     "execution_count": 31,
=======
     "execution_count": 135,
>>>>>>> origin/ahmad
     "metadata": {},
     "output_type": "execute_result"
    }
   ],
   "source": [
    "df[df['Price']<0]"
   ]
  },
  {
   "cell_type": "code",
<<<<<<< HEAD
   "execution_count": 32,
=======
   "execution_count": 148,
>>>>>>> origin/ahmad
   "metadata": {},
   "outputs": [
    {
     "data": {
      "text/plain": [
       "array([489434, 489435, 489436, 489437, 489438, 489439, 489440, 489441,\n",
       "       489442, 489443, 489444, 489445, 489446, 489447, 489448, 'C489449',\n",
       "       489450, 'C489459', 489460, 489461, 489462, 489465, 'C489476',\n",
       "       489488, 'C489503', 'C489504', 489505, 489514, 489517, 'C489518',\n",
       "       489519, 489520, 489522, 489523, 'C489524', 489526, 'C489527',\n",
       "       'C489528', 489529, 'C489530', 489531, 489532, 489533, 'C489534',\n",
       "       'C489535', 489536, 489537, 'C489538', 489540, 'C489541', 489539,\n",
       "       489542, 'C489543', 489544, 489545, 489546, 489547, 'C489549',\n",
       "       489550, 'C489551', 489552, 'C489553', 'C489554', 'C489555', 489556,\n",
       "       489557, 489558, 489559, 489560, 489561, 489562, 'C489563', 489564,\n",
       "       'C489565', 489566, 489567, 489569, 'C489568', 'C489570', 489571,\n",
       "       489572, 489573, 489574, 489575, 'C489577', 489576, 'C489578',\n",
       "       489579, 489580, 'C489583', 489582, 489581, 489584, 489585, 489586,\n",
       "       'C489587', 'C489588', 'C489589', 489590, 'C489591'], dtype=object)"
      ]
     },
<<<<<<< HEAD
     "execution_count": 32,
=======
     "execution_count": 148,
>>>>>>> origin/ahmad
     "metadata": {},
     "output_type": "execute_result"
    }
   ],
   "source": [
    "df.Invoice.unique()[0:100]"
   ]
  },
  {
   "cell_type": "code",
<<<<<<< HEAD
   "execution_count": 33,
=======
   "execution_count": 155,
>>>>>>> origin/ahmad
   "metadata": {},
   "outputs": [
    {
     "data": {
      "text/html": [
       "<div>\n",
       "<style scoped>\n",
       "    .dataframe tbody tr th:only-of-type {\n",
       "        vertical-align: middle;\n",
       "    }\n",
       "\n",
       "    .dataframe tbody tr th {\n",
       "        vertical-align: top;\n",
       "    }\n",
       "\n",
       "    .dataframe thead th {\n",
       "        text-align: right;\n",
       "    }\n",
       "</style>\n",
       "<table border=\"1\" class=\"dataframe\">\n",
       "  <thead>\n",
       "    <tr style=\"text-align: right;\">\n",
       "      <th></th>\n",
       "      <th>recency</th>\n",
       "      <th>frequency</th>\n",
       "      <th>monetary</th>\n",
       "    </tr>\n",
       "    <tr>\n",
       "      <th>Customer_id</th>\n",
       "      <th></th>\n",
       "      <th></th>\n",
       "      <th></th>\n",
       "    </tr>\n",
       "  </thead>\n",
       "  <tbody>\n",
       "    <tr>\n",
       "      <th>12346.0</th>\n",
       "      <td>326</td>\n",
       "      <td>34</td>\n",
       "      <td>-51.74</td>\n",
       "    </tr>\n",
       "    <tr>\n",
       "      <th>12347.0</th>\n",
       "      <td>3</td>\n",
       "      <td>222</td>\n",
       "      <td>4921.53</td>\n",
       "    </tr>\n",
       "    <tr>\n",
       "      <th>12348.0</th>\n",
       "      <td>76</td>\n",
       "      <td>51</td>\n",
       "      <td>2019.40</td>\n",
       "    </tr>\n",
       "    <tr>\n",
       "      <th>12349.0</th>\n",
       "      <td>19</td>\n",
       "      <td>175</td>\n",
       "      <td>4404.54</td>\n",
       "    </tr>\n",
       "    <tr>\n",
       "      <th>12350.0</th>\n",
       "      <td>311</td>\n",
       "      <td>17</td>\n",
       "      <td>334.40</td>\n",
       "    </tr>\n",
       "    <tr>\n",
       "      <th>12351.0</th>\n",
       "      <td>376</td>\n",
       "      <td>21</td>\n",
       "      <td>300.93</td>\n",
       "    </tr>\n",
       "    <tr>\n",
       "      <th>12352.0</th>\n",
       "      <td>37</td>\n",
       "      <td>103</td>\n",
       "      <td>1889.21</td>\n",
       "    </tr>\n",
       "    <tr>\n",
       "      <th>12353.0</th>\n",
       "      <td>205</td>\n",
       "      <td>24</td>\n",
       "      <td>406.76</td>\n",
       "    </tr>\n",
       "    <tr>\n",
       "      <th>12354.0</th>\n",
       "      <td>233</td>\n",
       "      <td>58</td>\n",
       "      <td>1079.40</td>\n",
       "    </tr>\n",
       "    <tr>\n",
       "      <th>12355.0</th>\n",
       "      <td>215</td>\n",
       "      <td>35</td>\n",
       "      <td>947.61</td>\n",
       "    </tr>\n",
       "  </tbody>\n",
       "</table>\n",
       "</div>"
      ],
      "text/plain": [
       "             recency  frequency  monetary\n",
       "Customer_id                              \n",
       "12346.0          326         34    -51.74\n",
       "12347.0            3        222   4921.53\n",
       "12348.0           76         51   2019.40\n",
       "12349.0           19        175   4404.54\n",
       "12350.0          311         17    334.40\n",
       "12351.0          376         21    300.93\n",
       "12352.0           37        103   1889.21\n",
       "12353.0          205         24    406.76\n",
       "12354.0          233         58   1079.40\n",
       "12355.0          215         35    947.61"
      ]
     },
<<<<<<< HEAD
     "execution_count": 33,
=======
     "execution_count": 155,
>>>>>>> origin/ahmad
     "metadata": {},
     "output_type": "execute_result"
    }
   ],
   "source": [
    "import datetime as dt\n",
    "\n",
    "today_date = dt.datetime(2011, 12, 11)\n",
    "rfm = df.groupby(\"Customer_id\").agg({\"InvoiceDate\": lambda InvoiceDate: (today_date - InvoiceDate.max()).days,\n",
    "                                     \"Invoice\": lambda x: sum(1 for invoice in x.astype(str) if not invoice.startswith('C')),\n",
    "                                     \"TotalPrice\": lambda TotalPrice: TotalPrice.sum()})\n",
    "rfm.columns = [\"recency\", \"frequency\", \"monetary\"]\n",
    "\n",
    "#rfm = rfm[(rfm['monetary'] > 0)]\n",
    "\n",
    "rfm.head(10)"
   ]
  },
  {
   "cell_type": "code",
<<<<<<< HEAD
   "execution_count": 34,
=======
   "execution_count": 151,
>>>>>>> origin/ahmad
   "metadata": {},
   "outputs": [
    {
     "name": "stderr",
     "output_type": "stream",
     "text": [
<<<<<<< HEAD
      "/tmp/ipykernel_91035/826291591.py:1: RuntimeWarning: invalid value encountered in double_scalars\n",
      "  df_price = df.groupby(\"Customer_id\").agg({\"TotalPrice\": [lambda x: abs(x).sum(), lambda x: x[x < 0].sum(), lambda x : abs(x[x < 0].sum()*100/abs(x).sum()) ]})\n"
=======
      "/tmp/ipykernel_328359/839899063.py:1: RuntimeWarning: divide by zero encountered in double_scalars\n",
      "  df_price = df.groupby(\"Customer_id\").agg({\"TotalPrice\": [lambda x: x[x > 0].sum(), lambda x: x[x < 0].sum(), lambda x : abs(x[x < 0].sum()*100/x[x > 0].sum()) ]})\n",
      "/tmp/ipykernel_328359/839899063.py:1: RuntimeWarning: invalid value encountered in double_scalars\n",
      "  df_price = df.groupby(\"Customer_id\").agg({\"TotalPrice\": [lambda x: x[x > 0].sum(), lambda x: x[x < 0].sum(), lambda x : abs(x[x < 0].sum()*100/x[x > 0].sum()) ]})\n"
>>>>>>> origin/ahmad
     ]
    }
   ],
   "source": [
    "df_price = df.groupby(\"Customer_id\").agg({\"TotalPrice\": [lambda x: x[x > 0].sum(), lambda x: x[x < 0].sum(), lambda x : abs(x[x < 0].sum()*100/x[x > 0].sum()) ]})\n"
   ]
  },
  {
   "cell_type": "code",
<<<<<<< HEAD
   "execution_count": 35,
=======
   "execution_count": 152,
>>>>>>> origin/ahmad
   "metadata": {},
   "outputs": [],
   "source": [
    "df_price.columns = ['payed_amount', 'refund_amount', 'pourcentage']"
   ]
  },
  {
   "cell_type": "code",
<<<<<<< HEAD
   "execution_count": 36,
=======
   "execution_count": 153,
>>>>>>> origin/ahmad
   "metadata": {},
   "outputs": [
    {
     "data": {
      "text/html": [
       "<div>\n",
       "<style scoped>\n",
       "    .dataframe tbody tr th:only-of-type {\n",
       "        vertical-align: middle;\n",
       "    }\n",
       "\n",
       "    .dataframe tbody tr th {\n",
       "        vertical-align: top;\n",
       "    }\n",
       "\n",
       "    .dataframe thead th {\n",
       "        text-align: right;\n",
       "    }\n",
       "</style>\n",
       "<table border=\"1\" class=\"dataframe\">\n",
       "  <thead>\n",
       "    <tr style=\"text-align: right;\">\n",
       "      <th></th>\n",
       "      <th>payed_amount</th>\n",
       "      <th>refund_amount</th>\n",
       "      <th>pourcentage</th>\n",
       "    </tr>\n",
       "    <tr>\n",
       "      <th>Customer_id</th>\n",
       "      <th></th>\n",
       "      <th></th>\n",
       "      <th></th>\n",
       "    </tr>\n",
       "  </thead>\n",
       "  <tbody>\n",
       "    <tr>\n",
       "      <th>12346.0</th>\n",
       "      <td>77556.46</td>\n",
       "      <td>-77608.20</td>\n",
       "      <td>100.066713</td>\n",
       "    </tr>\n",
       "    <tr>\n",
       "      <th>12347.0</th>\n",
       "      <td>4921.53</td>\n",
       "      <td>0.00</td>\n",
       "      <td>0.000000</td>\n",
       "    </tr>\n",
       "    <tr>\n",
       "      <th>12348.0</th>\n",
       "      <td>2019.40</td>\n",
       "      <td>0.00</td>\n",
       "      <td>0.000000</td>\n",
       "    </tr>\n",
       "    <tr>\n",
       "      <th>12349.0</th>\n",
       "      <td>4428.69</td>\n",
       "      <td>-24.15</td>\n",
       "      <td>0.545308</td>\n",
       "    </tr>\n",
       "    <tr>\n",
       "      <th>12350.0</th>\n",
       "      <td>334.40</td>\n",
       "      <td>0.00</td>\n",
       "      <td>0.000000</td>\n",
       "    </tr>\n",
       "    <tr>\n",
       "      <th>...</th>\n",
       "      <td>...</td>\n",
       "      <td>...</td>\n",
       "      <td>...</td>\n",
       "    </tr>\n",
       "    <tr>\n",
       "      <th>18283.0</th>\n",
       "      <td>2664.90</td>\n",
       "      <td>0.00</td>\n",
       "      <td>0.000000</td>\n",
       "    </tr>\n",
       "    <tr>\n",
       "      <th>18284.0</th>\n",
       "      <td>461.68</td>\n",
       "      <td>-25.00</td>\n",
       "      <td>5.415006</td>\n",
       "    </tr>\n",
       "    <tr>\n",
       "      <th>18285.0</th>\n",
       "      <td>427.00</td>\n",
       "      <td>0.00</td>\n",
       "      <td>0.000000</td>\n",
       "    </tr>\n",
       "    <tr>\n",
       "      <th>18286.0</th>\n",
       "      <td>1296.43</td>\n",
       "      <td>-108.00</td>\n",
       "      <td>8.330569</td>\n",
       "    </tr>\n",
       "    <tr>\n",
       "      <th>18287.0</th>\n",
       "      <td>4182.99</td>\n",
       "      <td>-5.10</td>\n",
       "      <td>0.121922</td>\n",
       "    </tr>\n",
       "  </tbody>\n",
       "</table>\n",
       "<p>5942 rows × 3 columns</p>\n",
       "</div>"
      ],
      "text/plain": [
       "             payed_amount  refund_amount  pourcentage\n",
       "Customer_id                                          \n",
       "12346.0          77556.46      -77608.20   100.066713\n",
       "12347.0           4921.53           0.00     0.000000\n",
       "12348.0           2019.40           0.00     0.000000\n",
       "12349.0           4428.69         -24.15     0.545308\n",
       "12350.0            334.40           0.00     0.000000\n",
       "...                   ...            ...          ...\n",
       "18283.0           2664.90           0.00     0.000000\n",
       "18284.0            461.68         -25.00     5.415006\n",
       "18285.0            427.00           0.00     0.000000\n",
       "18286.0           1296.43        -108.00     8.330569\n",
       "18287.0           4182.99          -5.10     0.121922\n",
       "\n",
       "[5942 rows x 3 columns]"
      ]
     },
<<<<<<< HEAD
     "execution_count": 36,
=======
     "execution_count": 153,
>>>>>>> origin/ahmad
     "metadata": {},
     "output_type": "execute_result"
    }
   ],
   "source": [
    "df_price"
   ]
  },
  {
   "cell_type": "code",
   "execution_count": null,
   "metadata": {},
   "outputs": [],
   "source": []
  },
  {
   "cell_type": "code",
<<<<<<< HEAD
   "execution_count": 37,
=======
   "execution_count": null,
>>>>>>> origin/ahmad
   "metadata": {},
   "outputs": [
    {
     "data": {
      "text/plain": [
       "array([[0.4403794 , 0.03143418, 0.04208178],\n",
       "       [0.00271003, 0.01375246, 0.05043331],\n",
       "       [0.10162602, 0.00785855, 0.04555981],\n",
       "       [0.02439024, 0.00785855, 0.04956514],\n",
       "       [0.4200542 , 0.        , 0.04273022],\n",
       "       [0.50813008, 0.        , 0.04267401],\n",
       "       [0.04878049, 0.02357564, 0.04534119],\n",
       "       [0.27642276, 0.00196464, 0.04285173],\n",
       "       [0.31436314, 0.        , 0.04398128],\n",
       "       [0.2899729 , 0.00196464, 0.04375997]])"
      ]
     },
     "execution_count": 37,
     "metadata": {},
     "output_type": "execute_result"
    }
   ],
   "source": [
    "from sklearn.preprocessing import MinMaxScaler\n",
    "sc = MinMaxScaler()\n",
    "rfm = sc.fit_transform(rfm)\n",
    "\n",
    "rfm[0:10]"
   ]
  },
  {
   "cell_type": "code",
<<<<<<< HEAD
   "execution_count": 39,
=======
   "execution_count": null,
>>>>>>> origin/ahmad
   "metadata": {},
   "outputs": [
    {
     "name": "stderr",
     "output_type": "stream",
     "text": [
      "/home/apprenant/miniconda3/envs/sklearn-env/lib/python3.11/site-packages/sklearn/cluster/_kmeans.py:870: FutureWarning: The default value of `n_init` will change from 10 to 'auto' in 1.4. Set the value of `n_init` explicitly to suppress the warning\n",
      "  warnings.warn(\n",
      "/home/apprenant/miniconda3/envs/sklearn-env/lib/python3.11/site-packages/sklearn/cluster/_kmeans.py:870: FutureWarning: The default value of `n_init` will change from 10 to 'auto' in 1.4. Set the value of `n_init` explicitly to suppress the warning\n",
      "  warnings.warn(\n",
      "/home/apprenant/miniconda3/envs/sklearn-env/lib/python3.11/site-packages/sklearn/cluster/_kmeans.py:870: FutureWarning: The default value of `n_init` will change from 10 to 'auto' in 1.4. Set the value of `n_init` explicitly to suppress the warning\n",
      "  warnings.warn(\n",
      "/home/apprenant/miniconda3/envs/sklearn-env/lib/python3.11/site-packages/sklearn/cluster/_kmeans.py:870: FutureWarning: The default value of `n_init` will change from 10 to 'auto' in 1.4. Set the value of `n_init` explicitly to suppress the warning\n",
      "  warnings.warn(\n",
      "/home/apprenant/miniconda3/envs/sklearn-env/lib/python3.11/site-packages/sklearn/cluster/_kmeans.py:870: FutureWarning: The default value of `n_init` will change from 10 to 'auto' in 1.4. Set the value of `n_init` explicitly to suppress the warning\n",
      "  warnings.warn(\n",
      "/home/apprenant/miniconda3/envs/sklearn-env/lib/python3.11/site-packages/sklearn/cluster/_kmeans.py:870: FutureWarning: The default value of `n_init` will change from 10 to 'auto' in 1.4. Set the value of `n_init` explicitly to suppress the warning\n",
      "  warnings.warn(\n",
      "/home/apprenant/miniconda3/envs/sklearn-env/lib/python3.11/site-packages/sklearn/cluster/_kmeans.py:870: FutureWarning: The default value of `n_init` will change from 10 to 'auto' in 1.4. Set the value of `n_init` explicitly to suppress the warning\n",
      "  warnings.warn(\n",
      "/home/apprenant/miniconda3/envs/sklearn-env/lib/python3.11/site-packages/sklearn/cluster/_kmeans.py:870: FutureWarning: The default value of `n_init` will change from 10 to 'auto' in 1.4. Set the value of `n_init` explicitly to suppress the warning\n",
      "  warnings.warn(\n",
      "/home/apprenant/miniconda3/envs/sklearn-env/lib/python3.11/site-packages/sklearn/cluster/_kmeans.py:870: FutureWarning: The default value of `n_init` will change from 10 to 'auto' in 1.4. Set the value of `n_init` explicitly to suppress the warning\n",
      "  warnings.warn(\n",
      "/home/apprenant/miniconda3/envs/sklearn-env/lib/python3.11/site-packages/sklearn/cluster/_kmeans.py:870: FutureWarning: The default value of `n_init` will change from 10 to 'auto' in 1.4. Set the value of `n_init` explicitly to suppress the warning\n",
      "  warnings.warn(\n",
      "/home/apprenant/miniconda3/envs/sklearn-env/lib/python3.11/site-packages/sklearn/cluster/_kmeans.py:870: FutureWarning: The default value of `n_init` will change from 10 to 'auto' in 1.4. Set the value of `n_init` explicitly to suppress the warning\n",
      "  warnings.warn(\n",
      "/home/apprenant/miniconda3/envs/sklearn-env/lib/python3.11/site-packages/sklearn/cluster/_kmeans.py:870: FutureWarning: The default value of `n_init` will change from 10 to 'auto' in 1.4. Set the value of `n_init` explicitly to suppress the warning\n",
      "  warnings.warn(\n",
      "/home/apprenant/miniconda3/envs/sklearn-env/lib/python3.11/site-packages/sklearn/cluster/_kmeans.py:870: FutureWarning: The default value of `n_init` will change from 10 to 'auto' in 1.4. Set the value of `n_init` explicitly to suppress the warning\n",
      "  warnings.warn(\n",
      "/home/apprenant/miniconda3/envs/sklearn-env/lib/python3.11/site-packages/sklearn/cluster/_kmeans.py:870: FutureWarning: The default value of `n_init` will change from 10 to 'auto' in 1.4. Set the value of `n_init` explicitly to suppress the warning\n",
      "  warnings.warn(\n",
      "/home/apprenant/miniconda3/envs/sklearn-env/lib/python3.11/site-packages/sklearn/cluster/_kmeans.py:870: FutureWarning: The default value of `n_init` will change from 10 to 'auto' in 1.4. Set the value of `n_init` explicitly to suppress the warning\n",
      "  warnings.warn(\n",
      "/home/apprenant/miniconda3/envs/sklearn-env/lib/python3.11/site-packages/sklearn/cluster/_kmeans.py:870: FutureWarning: The default value of `n_init` will change from 10 to 'auto' in 1.4. Set the value of `n_init` explicitly to suppress the warning\n",
      "  warnings.warn(\n",
      "/home/apprenant/miniconda3/envs/sklearn-env/lib/python3.11/site-packages/sklearn/cluster/_kmeans.py:870: FutureWarning: The default value of `n_init` will change from 10 to 'auto' in 1.4. Set the value of `n_init` explicitly to suppress the warning\n",
      "  warnings.warn(\n",
      "/home/apprenant/miniconda3/envs/sklearn-env/lib/python3.11/site-packages/sklearn/cluster/_kmeans.py:870: FutureWarning: The default value of `n_init` will change from 10 to 'auto' in 1.4. Set the value of `n_init` explicitly to suppress the warning\n",
      "  warnings.warn(\n",
      "/home/apprenant/miniconda3/envs/sklearn-env/lib/python3.11/site-packages/sklearn/cluster/_kmeans.py:870: FutureWarning: The default value of `n_init` will change from 10 to 'auto' in 1.4. Set the value of `n_init` explicitly to suppress the warning\n",
      "  warnings.warn(\n",
      "/home/apprenant/miniconda3/envs/sklearn-env/lib/python3.11/site-packages/sklearn/cluster/_kmeans.py:870: FutureWarning: The default value of `n_init` will change from 10 to 'auto' in 1.4. Set the value of `n_init` explicitly to suppress the warning\n",
      "  warnings.warn(\n",
      "/home/apprenant/miniconda3/envs/sklearn-env/lib/python3.11/site-packages/sklearn/cluster/_kmeans.py:870: FutureWarning: The default value of `n_init` will change from 10 to 'auto' in 1.4. Set the value of `n_init` explicitly to suppress the warning\n",
      "  warnings.warn(\n",
      "/home/apprenant/miniconda3/envs/sklearn-env/lib/python3.11/site-packages/sklearn/cluster/_kmeans.py:870: FutureWarning: The default value of `n_init` will change from 10 to 'auto' in 1.4. Set the value of `n_init` explicitly to suppress the warning\n",
      "  warnings.warn(\n",
      "/home/apprenant/miniconda3/envs/sklearn-env/lib/python3.11/site-packages/sklearn/cluster/_kmeans.py:870: FutureWarning: The default value of `n_init` will change from 10 to 'auto' in 1.4. Set the value of `n_init` explicitly to suppress the warning\n",
      "  warnings.warn(\n",
      "/home/apprenant/miniconda3/envs/sklearn-env/lib/python3.11/site-packages/sklearn/cluster/_kmeans.py:870: FutureWarning: The default value of `n_init` will change from 10 to 'auto' in 1.4. Set the value of `n_init` explicitly to suppress the warning\n",
      "  warnings.warn(\n",
      "/home/apprenant/miniconda3/envs/sklearn-env/lib/python3.11/site-packages/sklearn/cluster/_kmeans.py:870: FutureWarning: The default value of `n_init` will change from 10 to 'auto' in 1.4. Set the value of `n_init` explicitly to suppress the warning\n",
      "  warnings.warn(\n",
      "/home/apprenant/miniconda3/envs/sklearn-env/lib/python3.11/site-packages/sklearn/cluster/_kmeans.py:870: FutureWarning: The default value of `n_init` will change from 10 to 'auto' in 1.4. Set the value of `n_init` explicitly to suppress the warning\n",
      "  warnings.warn(\n",
      "/home/apprenant/miniconda3/envs/sklearn-env/lib/python3.11/site-packages/sklearn/cluster/_kmeans.py:870: FutureWarning: The default value of `n_init` will change from 10 to 'auto' in 1.4. Set the value of `n_init` explicitly to suppress the warning\n",
      "  warnings.warn(\n",
      "/home/apprenant/miniconda3/envs/sklearn-env/lib/python3.11/site-packages/sklearn/cluster/_kmeans.py:870: FutureWarning: The default value of `n_init` will change from 10 to 'auto' in 1.4. Set the value of `n_init` explicitly to suppress the warning\n",
      "  warnings.warn(\n",
      "/home/apprenant/miniconda3/envs/sklearn-env/lib/python3.11/site-packages/sklearn/cluster/_kmeans.py:870: FutureWarning: The default value of `n_init` will change from 10 to 'auto' in 1.4. Set the value of `n_init` explicitly to suppress the warning\n",
      "  warnings.warn(\n",
      "/home/apprenant/miniconda3/envs/sklearn-env/lib/python3.11/site-packages/sklearn/cluster/_kmeans.py:870: FutureWarning: The default value of `n_init` will change from 10 to 'auto' in 1.4. Set the value of `n_init` explicitly to suppress the warning\n",
      "  warnings.warn(\n",
      "/home/apprenant/miniconda3/envs/sklearn-env/lib/python3.11/site-packages/sklearn/cluster/_kmeans.py:870: FutureWarning: The default value of `n_init` will change from 10 to 'auto' in 1.4. Set the value of `n_init` explicitly to suppress the warning\n",
      "  warnings.warn(\n",
      "/home/apprenant/miniconda3/envs/sklearn-env/lib/python3.11/site-packages/sklearn/cluster/_kmeans.py:870: FutureWarning: The default value of `n_init` will change from 10 to 'auto' in 1.4. Set the value of `n_init` explicitly to suppress the warning\n",
      "  warnings.warn(\n",
      "/home/apprenant/miniconda3/envs/sklearn-env/lib/python3.11/site-packages/sklearn/cluster/_kmeans.py:870: FutureWarning: The default value of `n_init` will change from 10 to 'auto' in 1.4. Set the value of `n_init` explicitly to suppress the warning\n",
      "  warnings.warn(\n",
      "/home/apprenant/miniconda3/envs/sklearn-env/lib/python3.11/site-packages/sklearn/cluster/_kmeans.py:870: FutureWarning: The default value of `n_init` will change from 10 to 'auto' in 1.4. Set the value of `n_init` explicitly to suppress the warning\n",
      "  warnings.warn(\n",
      "/home/apprenant/miniconda3/envs/sklearn-env/lib/python3.11/site-packages/sklearn/cluster/_kmeans.py:870: FutureWarning: The default value of `n_init` will change from 10 to 'auto' in 1.4. Set the value of `n_init` explicitly to suppress the warning\n",
      "  warnings.warn(\n",
      "/home/apprenant/miniconda3/envs/sklearn-env/lib/python3.11/site-packages/sklearn/cluster/_kmeans.py:870: FutureWarning: The default value of `n_init` will change from 10 to 'auto' in 1.4. Set the value of `n_init` explicitly to suppress the warning\n",
      "  warnings.warn(\n",
      "/home/apprenant/miniconda3/envs/sklearn-env/lib/python3.11/site-packages/sklearn/cluster/_kmeans.py:870: FutureWarning: The default value of `n_init` will change from 10 to 'auto' in 1.4. Set the value of `n_init` explicitly to suppress the warning\n",
      "  warnings.warn(\n",
      "/home/apprenant/miniconda3/envs/sklearn-env/lib/python3.11/site-packages/sklearn/cluster/_kmeans.py:870: FutureWarning: The default value of `n_init` will change from 10 to 'auto' in 1.4. Set the value of `n_init` explicitly to suppress the warning\n",
      "  warnings.warn(\n",
      "/home/apprenant/miniconda3/envs/sklearn-env/lib/python3.11/site-packages/sklearn/cluster/_kmeans.py:870: FutureWarning: The default value of `n_init` will change from 10 to 'auto' in 1.4. Set the value of `n_init` explicitly to suppress the warning\n",
      "  warnings.warn(\n",
      "/home/apprenant/miniconda3/envs/sklearn-env/lib/python3.11/site-packages/sklearn/cluster/_kmeans.py:870: FutureWarning: The default value of `n_init` will change from 10 to 'auto' in 1.4. Set the value of `n_init` explicitly to suppress the warning\n",
      "  warnings.warn(\n",
      "/home/apprenant/miniconda3/envs/sklearn-env/lib/python3.11/site-packages/sklearn/cluster/_kmeans.py:870: FutureWarning: The default value of `n_init` will change from 10 to 'auto' in 1.4. Set the value of `n_init` explicitly to suppress the warning\n",
      "  warnings.warn(\n",
      "/home/apprenant/miniconda3/envs/sklearn-env/lib/python3.11/site-packages/sklearn/cluster/_kmeans.py:870: FutureWarning: The default value of `n_init` will change from 10 to 'auto' in 1.4. Set the value of `n_init` explicitly to suppress the warning\n",
      "  warnings.warn(\n",
      "/home/apprenant/miniconda3/envs/sklearn-env/lib/python3.11/site-packages/sklearn/cluster/_kmeans.py:870: FutureWarning: The default value of `n_init` will change from 10 to 'auto' in 1.4. Set the value of `n_init` explicitly to suppress the warning\n",
      "  warnings.warn(\n",
      "/home/apprenant/miniconda3/envs/sklearn-env/lib/python3.11/site-packages/sklearn/cluster/_kmeans.py:870: FutureWarning: The default value of `n_init` will change from 10 to 'auto' in 1.4. Set the value of `n_init` explicitly to suppress the warning\n",
      "  warnings.warn(\n",
      "/home/apprenant/miniconda3/envs/sklearn-env/lib/python3.11/site-packages/sklearn/cluster/_kmeans.py:870: FutureWarning: The default value of `n_init` will change from 10 to 'auto' in 1.4. Set the value of `n_init` explicitly to suppress the warning\n",
      "  warnings.warn(\n",
      "/home/apprenant/miniconda3/envs/sklearn-env/lib/python3.11/site-packages/sklearn/cluster/_kmeans.py:870: FutureWarning: The default value of `n_init` will change from 10 to 'auto' in 1.4. Set the value of `n_init` explicitly to suppress the warning\n",
      "  warnings.warn(\n",
      "/home/apprenant/miniconda3/envs/sklearn-env/lib/python3.11/site-packages/sklearn/cluster/_kmeans.py:870: FutureWarning: The default value of `n_init` will change from 10 to 'auto' in 1.4. Set the value of `n_init` explicitly to suppress the warning\n",
      "  warnings.warn(\n",
      "/home/apprenant/miniconda3/envs/sklearn-env/lib/python3.11/site-packages/sklearn/cluster/_kmeans.py:870: FutureWarning: The default value of `n_init` will change from 10 to 'auto' in 1.4. Set the value of `n_init` explicitly to suppress the warning\n",
      "  warnings.warn(\n"
     ]
    },
    {
     "data": {
      "image/png": "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",
      "text/plain": [
       "<Figure size 800x550 with 2 Axes>"
      ]
     },
     "metadata": {},
     "output_type": "display_data"
    },
    {
     "data": {
      "text/plain": [
       "<AxesSubplot: title={'center': 'Distortion Score Elbow for KMeans Clustering'}, xlabel='k', ylabel='distortion score'>"
      ]
     },
     "execution_count": 39,
     "metadata": {},
     "output_type": "execute_result"
    }
   ],
   "source": [
    "from sklearn.cluster import KMeans\n",
    "from yellowbrick.cluster import KElbowVisualizer\n",
    "kmeans = KMeans()\n",
    "elbow = KElbowVisualizer(kmeans, k=(2, 50))\n",
    "elbow.fit(rfm)\n",
    "elbow.show()"
   ]
  }
 ],
 "metadata": {
  "kernelspec": {
   "display_name": "sklearn-env",
   "language": "python",
   "name": "python3"
  },
  "language_info": {
   "codemirror_mode": {
    "name": "ipython",
    "version": 3
   },
   "file_extension": ".py",
   "mimetype": "text/x-python",
   "name": "python",
   "nbconvert_exporter": "python",
   "pygments_lexer": "ipython3",
   "version": "3.11.3"
  },
  "orig_nbformat": 4
 },
 "nbformat": 4,
 "nbformat_minor": 2
}
