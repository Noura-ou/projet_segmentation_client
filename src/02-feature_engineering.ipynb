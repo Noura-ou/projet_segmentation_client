{
 "cells": [
  {
   "attachments": {},
   "cell_type": "markdown",
   "metadata": {},
   "source": [
    "# <center><b> <em> Feature Engineering </em> </b></center>"
   ]
  },
  {
   "attachments": {},
   "cell_type": "markdown",
   "metadata": {},
   "source": [
    "### <font color=\"green\"> | - Import des Biblio et Dataframe</font>"
   ]
  },
  {
   "cell_type": "code",
<<<<<<< HEAD:src/02-feature_engineering.ipynb
   "execution_count": 12,
=======
   "execution_count": 161,
>>>>>>> 252831ffebf07690eb788148e55594add478e079:src/02_feature_engineering.ipynb
   "metadata": {},
   "outputs": [],
   "source": [
    "import pandas as pd\n",
    "import matplotlib.pyplot as plt\n",
    "import seaborn as sns\n",
    "import numpy as np\n",
    "import datetime as dt"
   ]
  },
  {
   "cell_type": "code",
<<<<<<< HEAD:src/02-feature_engineering.ipynb
   "execution_count": 13,
=======
   "execution_count": 162,
>>>>>>> 252831ffebf07690eb788148e55594add478e079:src/02_feature_engineering.ipynb
   "metadata": {},
   "outputs": [],
   "source": [
    "# Définir une fonction de conversion pour la colonne datetime\n",
    "def parse_datetime(date_string):\n",
    "    return pd.to_datetime(date_string)\n",
    "\n",
    "# Spécifier les types de données et les convertisseurs\n",
    "dtype = {'invoice': str, 'object': int, 'stock_code': object, 'description': object, 'quantity': int, 'unit_price': float, 'customer_id': object, 'country': object}\n",
    "converters = {'invoice_date': parse_datetime}\n",
    "\n",
    "# Charger le fichier CSV en utilisant les types de données et les convertisseurs\n",
    "data = pd.read_csv(\"../data/silver.csv\", dtype=dtype, converters=converters)"
   ]
  },
  {
   "cell_type": "code",
<<<<<<< HEAD:src/02-feature_engineering.ipynb
   "execution_count": 14,
=======
   "execution_count": 163,
>>>>>>> 252831ffebf07690eb788148e55594add478e079:src/02_feature_engineering.ipynb
   "metadata": {},
   "outputs": [
    {
     "data": {
      "text/html": [
       "<div>\n",
       "<style scoped>\n",
       "    .dataframe tbody tr th:only-of-type {\n",
       "        vertical-align: middle;\n",
       "    }\n",
       "\n",
       "    .dataframe tbody tr th {\n",
       "        vertical-align: top;\n",
       "    }\n",
       "\n",
       "    .dataframe thead th {\n",
       "        text-align: right;\n",
       "    }\n",
       "</style>\n",
       "<table border=\"1\" class=\"dataframe\">\n",
       "  <thead>\n",
       "    <tr style=\"text-align: right;\">\n",
       "      <th></th>\n",
       "      <th>invoice</th>\n",
       "      <th>stock_code</th>\n",
       "      <th>description</th>\n",
       "      <th>quantity</th>\n",
       "      <th>invoice_date</th>\n",
       "      <th>unit_price</th>\n",
       "      <th>customer_id</th>\n",
       "      <th>country</th>\n",
       "    </tr>\n",
       "  </thead>\n",
       "  <tbody>\n",
       "    <tr>\n",
       "      <th>1033031</th>\n",
       "      <td>581587</td>\n",
       "      <td>22899</td>\n",
       "      <td>CHILDREN'S APRON DOLLY GIRL</td>\n",
       "      <td>6</td>\n",
       "      <td>2011-12-09 12:50:00</td>\n",
       "      <td>2.10</td>\n",
       "      <td>12680.0</td>\n",
       "      <td>France</td>\n",
       "    </tr>\n",
       "    <tr>\n",
       "      <th>1033032</th>\n",
       "      <td>581587</td>\n",
       "      <td>23254</td>\n",
       "      <td>CHILDRENS CUTLERY DOLLY GIRL</td>\n",
       "      <td>4</td>\n",
       "      <td>2011-12-09 12:50:00</td>\n",
       "      <td>4.15</td>\n",
       "      <td>12680.0</td>\n",
       "      <td>France</td>\n",
       "    </tr>\n",
       "    <tr>\n",
       "      <th>1033033</th>\n",
       "      <td>581587</td>\n",
       "      <td>23255</td>\n",
       "      <td>CHILDRENS CUTLERY CIRCUS PARADE</td>\n",
       "      <td>4</td>\n",
       "      <td>2011-12-09 12:50:00</td>\n",
       "      <td>4.15</td>\n",
       "      <td>12680.0</td>\n",
       "      <td>France</td>\n",
       "    </tr>\n",
       "    <tr>\n",
       "      <th>1033034</th>\n",
       "      <td>581587</td>\n",
       "      <td>22138</td>\n",
       "      <td>BAKING SET 9 PIECE RETROSPOT</td>\n",
       "      <td>3</td>\n",
       "      <td>2011-12-09 12:50:00</td>\n",
       "      <td>4.95</td>\n",
       "      <td>12680.0</td>\n",
       "      <td>France</td>\n",
       "    </tr>\n",
       "    <tr>\n",
       "      <th>1033035</th>\n",
       "      <td>581587</td>\n",
       "      <td>POST</td>\n",
       "      <td>POSTAGE</td>\n",
       "      <td>1</td>\n",
       "      <td>2011-12-09 12:50:00</td>\n",
       "      <td>18.00</td>\n",
       "      <td>12680.0</td>\n",
       "      <td>France</td>\n",
       "    </tr>\n",
       "  </tbody>\n",
       "</table>\n",
       "</div>"
      ],
      "text/plain": [
       "        invoice stock_code                      description  quantity  \\\n",
       "1033031  581587      22899     CHILDREN'S APRON DOLLY GIRL          6   \n",
       "1033032  581587      23254    CHILDRENS CUTLERY DOLLY GIRL          4   \n",
       "1033033  581587      23255  CHILDRENS CUTLERY CIRCUS PARADE         4   \n",
       "1033034  581587      22138    BAKING SET 9 PIECE RETROSPOT          3   \n",
       "1033035  581587       POST                          POSTAGE         1   \n",
       "\n",
       "               invoice_date  unit_price customer_id country  \n",
       "1033031 2011-12-09 12:50:00        2.10     12680.0  France  \n",
       "1033032 2011-12-09 12:50:00        4.15     12680.0  France  \n",
       "1033033 2011-12-09 12:50:00        4.15     12680.0  France  \n",
       "1033034 2011-12-09 12:50:00        4.95     12680.0  France  \n",
       "1033035 2011-12-09 12:50:00       18.00     12680.0  France  "
      ]
     },
<<<<<<< HEAD:src/02-feature_engineering.ipynb
     "execution_count": 14,
=======
     "execution_count": 163,
>>>>>>> 252831ffebf07690eb788148e55594add478e079:src/02_feature_engineering.ipynb
     "metadata": {},
     "output_type": "execute_result"
    }
   ],
   "source": [
    "data.tail()"
   ]
  },
  {
   "cell_type": "code",
<<<<<<< HEAD:src/02-feature_engineering.ipynb
   "execution_count": 15,
=======
   "execution_count": 164,
>>>>>>> 252831ffebf07690eb788148e55594add478e079:src/02_feature_engineering.ipynb
   "metadata": {},
   "outputs": [
    {
     "data": {
      "text/html": [
       "<div>\n",
       "<style scoped>\n",
       "    .dataframe tbody tr th:only-of-type {\n",
       "        vertical-align: middle;\n",
       "    }\n",
       "\n",
       "    .dataframe tbody tr th {\n",
       "        vertical-align: top;\n",
       "    }\n",
       "\n",
       "    .dataframe thead th {\n",
       "        text-align: right;\n",
       "    }\n",
       "</style>\n",
       "<table border=\"1\" class=\"dataframe\">\n",
       "  <thead>\n",
       "    <tr style=\"text-align: right;\">\n",
       "      <th></th>\n",
       "      <th>quantity</th>\n",
       "      <th>unit_price</th>\n",
       "    </tr>\n",
       "  </thead>\n",
       "  <tbody>\n",
       "    <tr>\n",
       "      <th>count</th>\n",
       "      <td>1.033036e+06</td>\n",
       "      <td>1.033036e+06</td>\n",
       "    </tr>\n",
       "    <tr>\n",
       "      <th>mean</th>\n",
       "      <td>1.007688e+01</td>\n",
       "      <td>4.613980e+00</td>\n",
       "    </tr>\n",
       "    <tr>\n",
       "      <th>std</th>\n",
       "      <td>1.751976e+02</td>\n",
       "      <td>1.223975e+02</td>\n",
       "    </tr>\n",
       "    <tr>\n",
       "      <th>min</th>\n",
       "      <td>-8.099500e+04</td>\n",
       "      <td>-5.359436e+04</td>\n",
       "    </tr>\n",
       "    <tr>\n",
       "      <th>25%</th>\n",
       "      <td>1.000000e+00</td>\n",
       "      <td>1.250000e+00</td>\n",
       "    </tr>\n",
       "    <tr>\n",
       "      <th>50%</th>\n",
       "      <td>3.000000e+00</td>\n",
       "      <td>2.100000e+00</td>\n",
       "    </tr>\n",
       "    <tr>\n",
       "      <th>75%</th>\n",
       "      <td>1.000000e+01</td>\n",
       "      <td>4.150000e+00</td>\n",
       "    </tr>\n",
       "    <tr>\n",
       "      <th>max</th>\n",
       "      <td>8.099500e+04</td>\n",
       "      <td>3.897000e+04</td>\n",
       "    </tr>\n",
       "  </tbody>\n",
       "</table>\n",
       "</div>"
      ],
      "text/plain": [
       "           quantity    unit_price\n",
       "count  1.033036e+06  1.033036e+06\n",
       "mean   1.007688e+01  4.613980e+00\n",
       "std    1.751976e+02  1.223975e+02\n",
       "min   -8.099500e+04 -5.359436e+04\n",
       "25%    1.000000e+00  1.250000e+00\n",
       "50%    3.000000e+00  2.100000e+00\n",
       "75%    1.000000e+01  4.150000e+00\n",
       "max    8.099500e+04  3.897000e+04"
      ]
     },
<<<<<<< HEAD:src/02-feature_engineering.ipynb
     "execution_count": 15,
=======
     "execution_count": 164,
>>>>>>> 252831ffebf07690eb788148e55594add478e079:src/02_feature_engineering.ipynb
     "metadata": {},
     "output_type": "execute_result"
    }
   ],
   "source": [
    "data.describe()"
   ]
  },
  {
   "attachments": {},
   "cell_type": "markdown",
   "metadata": {},
   "source": [
    "### <font color=\"green\"> || - Ajout column Total Price </font>"
   ]
  },
  {
   "cell_type": "code",
<<<<<<< HEAD:src/02-feature_engineering.ipynb
   "execution_count": 16,
=======
   "execution_count": 165,
>>>>>>> 252831ffebf07690eb788148e55594add478e079:src/02_feature_engineering.ipynb
   "metadata": {},
   "outputs": [],
   "source": [
    "data[\"total_price\"] = data[\"quantity\"] * data[\"unit_price\"]"
   ]
  },
  {
   "cell_type": "code",
<<<<<<< HEAD:src/02-feature_engineering.ipynb
   "execution_count": 17,
=======
   "execution_count": 166,
>>>>>>> 252831ffebf07690eb788148e55594add478e079:src/02_feature_engineering.ipynb
   "metadata": {},
   "outputs": [
    {
     "data": {
      "text/html": [
       "<div>\n",
       "<style scoped>\n",
       "    .dataframe tbody tr th:only-of-type {\n",
       "        vertical-align: middle;\n",
       "    }\n",
       "\n",
       "    .dataframe tbody tr th {\n",
       "        vertical-align: top;\n",
       "    }\n",
       "\n",
       "    .dataframe thead th {\n",
       "        text-align: right;\n",
       "    }\n",
       "</style>\n",
       "<table border=\"1\" class=\"dataframe\">\n",
       "  <thead>\n",
       "    <tr style=\"text-align: right;\">\n",
       "      <th></th>\n",
       "      <th>invoice</th>\n",
       "      <th>stock_code</th>\n",
       "      <th>description</th>\n",
       "      <th>quantity</th>\n",
       "      <th>invoice_date</th>\n",
       "      <th>unit_price</th>\n",
       "      <th>customer_id</th>\n",
       "      <th>country</th>\n",
       "      <th>total_price</th>\n",
       "    </tr>\n",
       "  </thead>\n",
       "  <tbody>\n",
       "    <tr>\n",
       "      <th>0</th>\n",
       "      <td>489434</td>\n",
       "      <td>85048</td>\n",
       "      <td>15CM CHRISTMAS GLASS BALL 20 LIGHTS</td>\n",
       "      <td>12</td>\n",
       "      <td>2009-12-01 07:45:00</td>\n",
       "      <td>6.95</td>\n",
       "      <td>13085.0</td>\n",
       "      <td>United Kingdom</td>\n",
       "      <td>83.4</td>\n",
       "    </tr>\n",
       "    <tr>\n",
       "      <th>1</th>\n",
       "      <td>489434</td>\n",
       "      <td>79323P</td>\n",
       "      <td>PINK CHERRY LIGHTS</td>\n",
       "      <td>12</td>\n",
       "      <td>2009-12-01 07:45:00</td>\n",
       "      <td>6.75</td>\n",
       "      <td>13085.0</td>\n",
       "      <td>United Kingdom</td>\n",
       "      <td>81.0</td>\n",
       "    </tr>\n",
       "    <tr>\n",
       "      <th>2</th>\n",
       "      <td>489434</td>\n",
       "      <td>79323W</td>\n",
       "      <td>WHITE CHERRY LIGHTS</td>\n",
       "      <td>12</td>\n",
       "      <td>2009-12-01 07:45:00</td>\n",
       "      <td>6.75</td>\n",
       "      <td>13085.0</td>\n",
       "      <td>United Kingdom</td>\n",
       "      <td>81.0</td>\n",
       "    </tr>\n",
       "    <tr>\n",
       "      <th>3</th>\n",
       "      <td>489434</td>\n",
       "      <td>22041</td>\n",
       "      <td>RECORD FRAME 7\" SINGLE SIZE</td>\n",
       "      <td>48</td>\n",
       "      <td>2009-12-01 07:45:00</td>\n",
       "      <td>2.10</td>\n",
       "      <td>13085.0</td>\n",
       "      <td>United Kingdom</td>\n",
       "      <td>100.8</td>\n",
       "    </tr>\n",
       "    <tr>\n",
       "      <th>4</th>\n",
       "      <td>489434</td>\n",
       "      <td>21232</td>\n",
       "      <td>STRAWBERRY CERAMIC TRINKET BOX</td>\n",
       "      <td>24</td>\n",
       "      <td>2009-12-01 07:45:00</td>\n",
       "      <td>1.25</td>\n",
       "      <td>13085.0</td>\n",
       "      <td>United Kingdom</td>\n",
       "      <td>30.0</td>\n",
       "    </tr>\n",
       "  </tbody>\n",
       "</table>\n",
       "</div>"
      ],
      "text/plain": [
       "  invoice stock_code                          description  quantity  \\\n",
       "0  489434      85048  15CM CHRISTMAS GLASS BALL 20 LIGHTS        12   \n",
       "1  489434     79323P                   PINK CHERRY LIGHTS        12   \n",
       "2  489434     79323W                  WHITE CHERRY LIGHTS        12   \n",
       "3  489434      22041         RECORD FRAME 7\" SINGLE SIZE         48   \n",
       "4  489434      21232       STRAWBERRY CERAMIC TRINKET BOX        24   \n",
       "\n",
       "         invoice_date  unit_price customer_id         country  total_price  \n",
       "0 2009-12-01 07:45:00        6.95     13085.0  United Kingdom         83.4  \n",
       "1 2009-12-01 07:45:00        6.75     13085.0  United Kingdom         81.0  \n",
       "2 2009-12-01 07:45:00        6.75     13085.0  United Kingdom         81.0  \n",
       "3 2009-12-01 07:45:00        2.10     13085.0  United Kingdom        100.8  \n",
       "4 2009-12-01 07:45:00        1.25     13085.0  United Kingdom         30.0  "
      ]
     },
<<<<<<< HEAD:src/02-feature_engineering.ipynb
     "execution_count": 17,
=======
     "execution_count": 166,
>>>>>>> 252831ffebf07690eb788148e55594add478e079:src/02_feature_engineering.ipynb
     "metadata": {},
     "output_type": "execute_result"
    }
   ],
   "source": [
    "data.head()"
   ]
  },
  {
   "attachments": {},
   "cell_type": "markdown",
   "metadata": {},
   "source": [
    "### <font color=\"green\"> ||| - RFM Analysis </font>"
   ]
  },
  {
   "attachments": {},
   "cell_type": "markdown",
   "metadata": {},
   "source": [
    "La métrique RFM (Récence, Fréquence, Montant) est une méthode d'analyse utilisée dans le domaine du marketing et de la gestion de la relation client. Elle permet de segmenter et d'évaluer la valeur des clients en fonction de trois critères principaux :\n",
    "\n",
    "    Récence (Recency) : Cette mesure évalue depuis combien de temps un client n'a pas effectué d'activité ou d'achat. Plus la récence est faible, c'est-à-dire plus le client a interagi récemment avec l'entreprise, plus il est considéré comme actif et potentiellement précieux.\n",
    "\n",
    "    Fréquence (Frequency) : Cette mesure évalue la fréquence à laquelle un client effectue des activités ou des achats. Les clients qui interagissent plus souvent avec l'entreprise sont généralement considérés comme plus engagés et fidèles.\n",
    "\n",
    "    Montant (Monetary) : Cette mesure évalue la valeur monétaire des activités ou des achats effectués par un client. Elle prend en compte le montant total dépensé par le client sur une période donnée. Les clients qui dépensent davantage sont souvent considérés comme plus précieux pour l'entreprise.\n",
    "\n",
    "En combinant ces trois mesures, on peut créer des segments de clients plus pertinents et ciblés. Par exemple, un segment \"VIP\" pourrait être composé de clients récents, fréquents et à haut montant, tandis qu'un segment \"à réactiver\" pourrait inclure des clients moins actifs sur une longue période.\n",
    "\n",
    "La métrique RFM permet aux entreprises de mieux comprendre le comportement et la valeur de leurs clients, ce qui leur permet de personnaliser leurs stratégies de marketing, de fidélisation et de service client. Elle est souvent utilisée en conjonction avec des techniques de segmentation et d'analyse de données pour prendre des décisions plus éclairées et optimiser les efforts de marketing et de gestion de la relation client."
   ]
  },
  {
   "attachments": {},
   "cell_type": "markdown",
   "metadata": {},
   "source": [
    "## <font color=\"purple\"> \n",
    " - <b> Recency </b> : the number of days between today_date and the last purchase date of this customer  \n",
    "\n",
    " - <b> Frequency </b> : the number of purchase of this customer  \n",
    "\n",
    " - <b> Monetary </b> : sum of TotalPrice of this customer \n",
    "\n",
    " \n",
    " </font>\n"
   ]
  },
  {
   "cell_type": "code",
<<<<<<< HEAD:src/02-feature_engineering.ipynb
   "execution_count": 18,
=======
   "execution_count": 167,
>>>>>>> 252831ffebf07690eb788148e55594add478e079:src/02_feature_engineering.ipynb
   "metadata": {},
   "outputs": [],
   "source": [
    "today_date = dt.datetime(2011, 12, 11)"
   ]
  },
  {
   "cell_type": "code",
<<<<<<< HEAD:src/02-feature_engineering.ipynb
   "execution_count": 19,
   "metadata": {},
   "outputs": [],
   "source": [
    "rfm = data.groupby('customer_id').agg({'invoice_date': lambda invoice_date: (today_date - invoice_date.max()).days,\n",
    "                                     'invoice': lambda invoice: invoice.nunique(),\n",
    "                                     'total_price': lambda total_price: total_price.sum()})"
   ]
  },
  {
   "cell_type": "code",
   "execution_count": 20,
=======
   "execution_count": 168,
>>>>>>> 252831ffebf07690eb788148e55594add478e079:src/02_feature_engineering.ipynb
   "metadata": {},
   "outputs": [
    {
     "data": {
      "text/html": [
       "<div>\n",
       "<style scoped>\n",
       "    .dataframe tbody tr th:only-of-type {\n",
       "        vertical-align: middle;\n",
       "    }\n",
       "\n",
       "    .dataframe tbody tr th {\n",
       "        vertical-align: top;\n",
       "    }\n",
       "\n",
       "    .dataframe thead th {\n",
       "        text-align: right;\n",
       "    }\n",
       "</style>\n",
       "<table border=\"1\" class=\"dataframe\">\n",
       "  <thead>\n",
       "    <tr style=\"text-align: right;\">\n",
       "      <th></th>\n",
       "      <th>recency</th>\n",
       "      <th>frequency</th>\n",
       "      <th>monetary</th>\n",
       "    </tr>\n",
       "    <tr>\n",
       "      <th>customer_id</th>\n",
       "      <th></th>\n",
       "      <th></th>\n",
       "      <th></th>\n",
       "    </tr>\n",
       "  </thead>\n",
       "  <tbody>\n",
       "    <tr>\n",
       "      <th>12346.0</th>\n",
       "      <td>326</td>\n",
       "      <td>12</td>\n",
       "      <td>-51.74</td>\n",
       "    </tr>\n",
       "    <tr>\n",
       "      <th>12347.0</th>\n",
       "      <td>3</td>\n",
       "      <td>8</td>\n",
       "      <td>4921.53</td>\n",
       "    </tr>\n",
       "    <tr>\n",
       "      <th>12348.0</th>\n",
       "      <td>76</td>\n",
       "      <td>5</td>\n",
       "      <td>2019.40</td>\n",
       "    </tr>\n",
       "    <tr>\n",
       "      <th>12349.0</th>\n",
       "      <td>19</td>\n",
       "      <td>4</td>\n",
       "      <td>4404.54</td>\n",
       "    </tr>\n",
       "    <tr>\n",
       "      <th>12350.0</th>\n",
       "      <td>311</td>\n",
       "      <td>1</td>\n",
       "      <td>334.40</td>\n",
       "    </tr>\n",
       "    <tr>\n",
       "      <th>12351.0</th>\n",
       "      <td>376</td>\n",
       "      <td>1</td>\n",
       "      <td>300.93</td>\n",
       "    </tr>\n",
       "    <tr>\n",
       "      <th>12352.0</th>\n",
       "      <td>37</td>\n",
       "      <td>10</td>\n",
       "      <td>1889.21</td>\n",
       "    </tr>\n",
       "    <tr>\n",
       "      <th>12353.0</th>\n",
       "      <td>205</td>\n",
       "      <td>2</td>\n",
       "      <td>406.76</td>\n",
       "    </tr>\n",
       "    <tr>\n",
       "      <th>12354.0</th>\n",
       "      <td>233</td>\n",
       "      <td>1</td>\n",
       "      <td>1079.40</td>\n",
       "    </tr>\n",
       "    <tr>\n",
       "      <th>12355.0</th>\n",
       "      <td>215</td>\n",
       "      <td>2</td>\n",
       "      <td>947.61</td>\n",
       "    </tr>\n",
       "  </tbody>\n",
       "</table>\n",
       "</div>"
      ],
      "text/plain": [
       "             recency  frequency  monetary\n",
       "customer_id                              \n",
       "12346.0          326         12    -51.74\n",
       "12347.0            3          8   4921.53\n",
       "12348.0           76          5   2019.40\n",
       "12349.0           19          4   4404.54\n",
       "12350.0          311          1    334.40\n",
       "12351.0          376          1    300.93\n",
       "12352.0           37         10   1889.21\n",
       "12353.0          205          2    406.76\n",
       "12354.0          233          1   1079.40\n",
       "12355.0          215          2    947.61"
      ]
     },
     "execution_count": 168,
     "metadata": {},
     "output_type": "execute_result"
    }
   ],
   "source": [
    "RFM_data = data.groupby(\"customer_id\").agg({\"invoice_date\": lambda InvoiceDate: (today_date - InvoiceDate.max()).days,\n",
    "                                     \"invoice\": lambda x: x.astype(str)[~x.astype(str).str.startswith('C')].nunique(),\n",
    "                                     \"total_price\": lambda TotalPrice: TotalPrice.sum()})\n",
    "RFM_data.columns = [\"recency\", \"frequency\", \"monetary\"]\n",
    "\n",
    "\n",
    "RFM_data.head(10)"
   ]
  },
  {
   "cell_type": "code",
   "execution_count": 169,
   "metadata": {},
   "outputs": [
    {
     "data": {
      "text/html": [
       "<div>\n",
       "<style scoped>\n",
       "    .dataframe tbody tr th:only-of-type {\n",
       "        vertical-align: middle;\n",
       "    }\n",
       "\n",
       "    .dataframe tbody tr th {\n",
       "        vertical-align: top;\n",
       "    }\n",
       "\n",
       "    .dataframe thead th {\n",
       "        text-align: right;\n",
       "    }\n",
       "</style>\n",
       "<table border=\"1\" class=\"dataframe\">\n",
       "  <thead>\n",
       "    <tr style=\"text-align: right;\">\n",
       "      <th></th>\n",
       "      <th>recency</th>\n",
       "      <th>frequency</th>\n",
       "      <th>monetary</th>\n",
       "    </tr>\n",
       "    <tr>\n",
       "      <th>customer_id</th>\n",
       "      <th></th>\n",
       "      <th></th>\n",
       "      <th></th>\n",
       "    </tr>\n",
       "  </thead>\n",
       "  <tbody>\n",
       "    <tr>\n",
       "      <th>12346.0</th>\n",
       "      <td>326</td>\n",
       "      <td>12</td>\n",
       "      <td>-51.74</td>\n",
       "    </tr>\n",
       "    <tr>\n",
       "      <th>12347.0</th>\n",
       "      <td>3</td>\n",
       "      <td>8</td>\n",
       "      <td>4921.53</td>\n",
       "    </tr>\n",
       "    <tr>\n",
       "      <th>12348.0</th>\n",
       "      <td>76</td>\n",
       "      <td>5</td>\n",
       "      <td>2019.40</td>\n",
       "    </tr>\n",
       "    <tr>\n",
       "      <th>12349.0</th>\n",
       "      <td>19</td>\n",
       "      <td>4</td>\n",
       "      <td>4404.54</td>\n",
       "    </tr>\n",
       "    <tr>\n",
       "      <th>12350.0</th>\n",
       "      <td>311</td>\n",
       "      <td>1</td>\n",
       "      <td>334.40</td>\n",
       "    </tr>\n",
       "  </tbody>\n",
       "</table>\n",
       "</div>"
      ],
      "text/plain": [
       "             recency  frequency  monetary\n",
       "customer_id                              \n",
       "12346.0          326         12    -51.74\n",
       "12347.0            3          8   4921.53\n",
       "12348.0           76          5   2019.40\n",
       "12349.0           19          4   4404.54\n",
       "12350.0          311          1    334.40"
      ]
     },
<<<<<<< HEAD:src/02-feature_engineering.ipynb
     "execution_count": 20,
=======
     "execution_count": 169,
>>>>>>> 252831ffebf07690eb788148e55594add478e079:src/02_feature_engineering.ipynb
     "metadata": {},
     "output_type": "execute_result"
    }
   ],
   "source": [
    "RFM_data.head()\n",
    "#kmeans num et kproto mixte \n",
    "#passer de 800 à 500 mill faire un groupe by par cluster après (savoir qeu'estce qui caractérise un cluster en faisant une moy, describe....)  \n",
    "# (justif pour la méthode du coude pour enlever ou ajouter un cluster)\n",
    "#utiliser ACP pour visualiser les variables 4 (hue par cluster)"
   ]
  },
  {
   "cell_type": "code",
<<<<<<< HEAD:src/02-feature_engineering.ipynb
   "execution_count": 21,
=======
   "execution_count": 170,
   "metadata": {},
   "outputs": [
    {
     "data": {
      "text/html": [
       "<div>\n",
       "<style scoped>\n",
       "    .dataframe tbody tr th:only-of-type {\n",
       "        vertical-align: middle;\n",
       "    }\n",
       "\n",
       "    .dataframe tbody tr th {\n",
       "        vertical-align: top;\n",
       "    }\n",
       "\n",
       "    .dataframe thead th {\n",
       "        text-align: right;\n",
       "    }\n",
       "</style>\n",
       "<table border=\"1\" class=\"dataframe\">\n",
       "  <thead>\n",
       "    <tr style=\"text-align: right;\">\n",
       "      <th></th>\n",
       "      <th>invoice</th>\n",
       "      <th>stock_code</th>\n",
       "      <th>description</th>\n",
       "      <th>quantity</th>\n",
       "      <th>invoice_date</th>\n",
       "      <th>unit_price</th>\n",
       "      <th>customer_id</th>\n",
       "      <th>country</th>\n",
       "      <th>total_price</th>\n",
       "    </tr>\n",
       "  </thead>\n",
       "  <tbody>\n",
       "    <tr>\n",
       "      <th>178</th>\n",
       "      <td>C489449</td>\n",
       "      <td>22087</td>\n",
       "      <td>PAPER BUNTING WHITE LACE</td>\n",
       "      <td>-12</td>\n",
       "      <td>2009-12-01 10:33:00</td>\n",
       "      <td>2.95</td>\n",
       "      <td>16321.0</td>\n",
       "      <td>Australia</td>\n",
       "      <td>-35.4</td>\n",
       "    </tr>\n",
       "    <tr>\n",
       "      <th>179</th>\n",
       "      <td>C489449</td>\n",
       "      <td>85206A</td>\n",
       "      <td>CREAM FELT EASTER EGG BASKET</td>\n",
       "      <td>-6</td>\n",
       "      <td>2009-12-01 10:33:00</td>\n",
       "      <td>1.65</td>\n",
       "      <td>16321.0</td>\n",
       "      <td>Australia</td>\n",
       "      <td>-9.9</td>\n",
       "    </tr>\n",
       "    <tr>\n",
       "      <th>180</th>\n",
       "      <td>C489449</td>\n",
       "      <td>21895</td>\n",
       "      <td>POTTING SHED SOW 'N' GROW SET</td>\n",
       "      <td>-4</td>\n",
       "      <td>2009-12-01 10:33:00</td>\n",
       "      <td>4.25</td>\n",
       "      <td>16321.0</td>\n",
       "      <td>Australia</td>\n",
       "      <td>-17.0</td>\n",
       "    </tr>\n",
       "    <tr>\n",
       "      <th>181</th>\n",
       "      <td>C489449</td>\n",
       "      <td>21896</td>\n",
       "      <td>POTTING SHED TWINE</td>\n",
       "      <td>-6</td>\n",
       "      <td>2009-12-01 10:33:00</td>\n",
       "      <td>2.10</td>\n",
       "      <td>16321.0</td>\n",
       "      <td>Australia</td>\n",
       "      <td>-12.6</td>\n",
       "    </tr>\n",
       "    <tr>\n",
       "      <th>182</th>\n",
       "      <td>C489449</td>\n",
       "      <td>22083</td>\n",
       "      <td>PAPER CHAIN KIT RETRO SPOT</td>\n",
       "      <td>-12</td>\n",
       "      <td>2009-12-01 10:33:00</td>\n",
       "      <td>2.95</td>\n",
       "      <td>16321.0</td>\n",
       "      <td>Australia</td>\n",
       "      <td>-35.4</td>\n",
       "    </tr>\n",
       "    <tr>\n",
       "      <th>183</th>\n",
       "      <td>C489449</td>\n",
       "      <td>21871</td>\n",
       "      <td>SAVE THE PLANET MUG</td>\n",
       "      <td>-12</td>\n",
       "      <td>2009-12-01 10:33:00</td>\n",
       "      <td>1.25</td>\n",
       "      <td>16321.0</td>\n",
       "      <td>Australia</td>\n",
       "      <td>-15.0</td>\n",
       "    </tr>\n",
       "  </tbody>\n",
       "</table>\n",
       "</div>"
      ],
      "text/plain": [
       "     invoice stock_code                    description  quantity  \\\n",
       "178  C489449      22087       PAPER BUNTING WHITE LACE       -12   \n",
       "179  C489449     85206A   CREAM FELT EASTER EGG BASKET        -6   \n",
       "180  C489449      21895  POTTING SHED SOW 'N' GROW SET        -4   \n",
       "181  C489449      21896             POTTING SHED TWINE        -6   \n",
       "182  C489449      22083     PAPER CHAIN KIT RETRO SPOT       -12   \n",
       "183  C489449      21871            SAVE THE PLANET MUG       -12   \n",
       "\n",
       "           invoice_date  unit_price customer_id    country  total_price  \n",
       "178 2009-12-01 10:33:00        2.95     16321.0  Australia        -35.4  \n",
       "179 2009-12-01 10:33:00        1.65     16321.0  Australia         -9.9  \n",
       "180 2009-12-01 10:33:00        4.25     16321.0  Australia        -17.0  \n",
       "181 2009-12-01 10:33:00        2.10     16321.0  Australia        -12.6  \n",
       "182 2009-12-01 10:33:00        2.95     16321.0  Australia        -35.4  \n",
       "183 2009-12-01 10:33:00        1.25     16321.0  Australia        -15.0  "
      ]
     },
     "execution_count": 170,
     "metadata": {},
     "output_type": "execute_result"
    }
   ],
   "source": [
    "df_cancelled = data[data[\"invoice\"].str.contains(\"C\", na=False)]\n",
    "df_cancelled.head(6)"
   ]
  },
  {
   "cell_type": "code",
   "execution_count": 171,
   "metadata": {},
   "outputs": [
    {
     "name": "stderr",
     "output_type": "stream",
     "text": [
      "/tmp/ipykernel_59669/3678435018.py:1: RuntimeWarning: invalid value encountered in double_scalars\n",
      "  df_churn_custmer = data.groupby(\"customer_id\").agg({\"total_price\": [lambda x: abs(x).sum(), lambda x: x[x < 0].sum(), lambda x : abs(x[x < 0].sum()*100/abs(x).sum()) ]})\n"
     ]
    }
   ],
   "source": [
    "df_churn_custmer = data.groupby(\"customer_id\").agg({\"total_price\": [lambda x: abs(x).sum(), lambda x: x[x < 0].sum(), lambda x : abs(x[x < 0].sum()*100/abs(x).sum()) ]})\n",
    "df_churn_custmer.columns = ['payed_amount', 'refund_amount', 'pourcentage']"
   ]
  },
  {
   "cell_type": "code",
   "execution_count": 172,
   "metadata": {},
   "outputs": [
    {
     "data": {
      "text/html": [
       "<div>\n",
       "<style scoped>\n",
       "    .dataframe tbody tr th:only-of-type {\n",
       "        vertical-align: middle;\n",
       "    }\n",
       "\n",
       "    .dataframe tbody tr th {\n",
       "        vertical-align: top;\n",
       "    }\n",
       "\n",
       "    .dataframe thead th {\n",
       "        text-align: right;\n",
       "    }\n",
       "</style>\n",
       "<table border=\"1\" class=\"dataframe\">\n",
       "  <thead>\n",
       "    <tr style=\"text-align: right;\">\n",
       "      <th></th>\n",
       "      <th>payed_amount</th>\n",
       "      <th>refund_amount</th>\n",
       "      <th>pourcentage</th>\n",
       "    </tr>\n",
       "    <tr>\n",
       "      <th>customer_id</th>\n",
       "      <th></th>\n",
       "      <th></th>\n",
       "      <th></th>\n",
       "    </tr>\n",
       "  </thead>\n",
       "  <tbody>\n",
       "    <tr>\n",
       "      <th>12346.0</th>\n",
       "      <td>155164.66</td>\n",
       "      <td>-77608.20</td>\n",
       "      <td>50.016673</td>\n",
       "    </tr>\n",
       "    <tr>\n",
       "      <th>12347.0</th>\n",
       "      <td>4921.53</td>\n",
       "      <td>0.00</td>\n",
       "      <td>0.000000</td>\n",
       "    </tr>\n",
       "    <tr>\n",
       "      <th>12348.0</th>\n",
       "      <td>2019.40</td>\n",
       "      <td>0.00</td>\n",
       "      <td>0.000000</td>\n",
       "    </tr>\n",
       "    <tr>\n",
       "      <th>12349.0</th>\n",
       "      <td>4452.84</td>\n",
       "      <td>-24.15</td>\n",
       "      <td>0.542350</td>\n",
       "    </tr>\n",
       "    <tr>\n",
       "      <th>12350.0</th>\n",
       "      <td>334.40</td>\n",
       "      <td>0.00</td>\n",
       "      <td>0.000000</td>\n",
       "    </tr>\n",
       "  </tbody>\n",
       "</table>\n",
       "</div>"
      ],
      "text/plain": [
       "             payed_amount  refund_amount  pourcentage\n",
       "customer_id                                          \n",
       "12346.0         155164.66      -77608.20    50.016673\n",
       "12347.0           4921.53           0.00     0.000000\n",
       "12348.0           2019.40           0.00     0.000000\n",
       "12349.0           4452.84         -24.15     0.542350\n",
       "12350.0            334.40           0.00     0.000000"
      ]
     },
     "execution_count": 172,
     "metadata": {},
     "output_type": "execute_result"
    }
   ],
   "source": [
    "df_churn_custmer.head()"
   ]
  },
  {
   "cell_type": "code",
   "execution_count": 173,
   "metadata": {},
   "outputs": [],
   "source": [
    "rfm_data =pd.merge(RFM_data, df_churn_custmer, on='customer_id')"
   ]
  },
  {
   "cell_type": "code",
   "execution_count": 174,
   "metadata": {},
   "outputs": [
    {
     "data": {
      "text/html": [
       "<div>\n",
       "<style scoped>\n",
       "    .dataframe tbody tr th:only-of-type {\n",
       "        vertical-align: middle;\n",
       "    }\n",
       "\n",
       "    .dataframe tbody tr th {\n",
       "        vertical-align: top;\n",
       "    }\n",
       "\n",
       "    .dataframe thead th {\n",
       "        text-align: right;\n",
       "    }\n",
       "</style>\n",
       "<table border=\"1\" class=\"dataframe\">\n",
       "  <thead>\n",
       "    <tr style=\"text-align: right;\">\n",
       "      <th></th>\n",
       "      <th>recency</th>\n",
       "      <th>frequency</th>\n",
       "      <th>monetary</th>\n",
       "      <th>payed_amount</th>\n",
       "      <th>refund_amount</th>\n",
       "      <th>pourcentage</th>\n",
       "    </tr>\n",
       "    <tr>\n",
       "      <th>customer_id</th>\n",
       "      <th></th>\n",
       "      <th></th>\n",
       "      <th></th>\n",
       "      <th></th>\n",
       "      <th></th>\n",
       "      <th></th>\n",
       "    </tr>\n",
       "  </thead>\n",
       "  <tbody>\n",
       "    <tr>\n",
       "      <th>12346.0</th>\n",
       "      <td>326</td>\n",
       "      <td>12</td>\n",
       "      <td>-51.74</td>\n",
       "      <td>155164.66</td>\n",
       "      <td>-77608.20</td>\n",
       "      <td>50.016673</td>\n",
       "    </tr>\n",
       "    <tr>\n",
       "      <th>12347.0</th>\n",
       "      <td>3</td>\n",
       "      <td>8</td>\n",
       "      <td>4921.53</td>\n",
       "      <td>4921.53</td>\n",
       "      <td>0.00</td>\n",
       "      <td>0.000000</td>\n",
       "    </tr>\n",
       "    <tr>\n",
       "      <th>12348.0</th>\n",
       "      <td>76</td>\n",
       "      <td>5</td>\n",
       "      <td>2019.40</td>\n",
       "      <td>2019.40</td>\n",
       "      <td>0.00</td>\n",
       "      <td>0.000000</td>\n",
       "    </tr>\n",
       "    <tr>\n",
       "      <th>12349.0</th>\n",
       "      <td>19</td>\n",
       "      <td>4</td>\n",
       "      <td>4404.54</td>\n",
       "      <td>4452.84</td>\n",
       "      <td>-24.15</td>\n",
       "      <td>0.542350</td>\n",
       "    </tr>\n",
       "    <tr>\n",
       "      <th>12350.0</th>\n",
       "      <td>311</td>\n",
       "      <td>1</td>\n",
       "      <td>334.40</td>\n",
       "      <td>334.40</td>\n",
       "      <td>0.00</td>\n",
       "      <td>0.000000</td>\n",
       "    </tr>\n",
       "  </tbody>\n",
       "</table>\n",
       "</div>"
      ],
      "text/plain": [
       "             recency  frequency  monetary  payed_amount  refund_amount  \\\n",
       "customer_id                                                              \n",
       "12346.0          326         12    -51.74     155164.66      -77608.20   \n",
       "12347.0            3          8   4921.53       4921.53           0.00   \n",
       "12348.0           76          5   2019.40       2019.40           0.00   \n",
       "12349.0           19          4   4404.54       4452.84         -24.15   \n",
       "12350.0          311          1    334.40        334.40           0.00   \n",
       "\n",
       "             pourcentage  \n",
       "customer_id               \n",
       "12346.0        50.016673  \n",
       "12347.0         0.000000  \n",
       "12348.0         0.000000  \n",
       "12349.0         0.542350  \n",
       "12350.0         0.000000  "
      ]
     },
     "execution_count": 174,
     "metadata": {},
     "output_type": "execute_result"
    }
   ],
   "source": [
    "rfm_data.head()"
   ]
  },
  {
   "cell_type": "code",
   "execution_count": 175,
>>>>>>> 252831ffebf07690eb788148e55594add478e079:src/02_feature_engineering.ipynb
   "metadata": {},
   "outputs": [
    {
     "name": "stdout",
     "output_type": "stream",
     "text": [
      "<class 'pandas.core.frame.DataFrame'>\n",
      "Index: 5942 entries, 12346.0 to 18287.0\n",
<<<<<<< HEAD:src/02-feature_engineering.ipynb
      "Data columns (total 3 columns):\n",
      " #   Column        Non-Null Count  Dtype  \n",
      "---  ------        --------------  -----  \n",
      " 0   invoice_date  5942 non-null   int64  \n",
      " 1   invoice       5942 non-null   int64  \n",
      " 2   total_price   5942 non-null   float64\n",
      "dtypes: float64(1), int64(2)\n",
      "memory usage: 185.7+ KB\n"
=======
      "Data columns (total 6 columns):\n",
      " #   Column         Non-Null Count  Dtype  \n",
      "---  ------         --------------  -----  \n",
      " 0   recency        5942 non-null   int64  \n",
      " 1   frequency      5942 non-null   int64  \n",
      " 2   monetary       5942 non-null   float64\n",
      " 3   payed_amount   5942 non-null   float64\n",
      " 4   refund_amount  5942 non-null   float64\n",
      " 5   pourcentage    5939 non-null   float64\n",
      "dtypes: float64(4), int64(2)\n",
      "memory usage: 325.0+ KB\n"
>>>>>>> 252831ffebf07690eb788148e55594add478e079:src/02_feature_engineering.ipynb
     ]
    }
   ],
   "source": [
<<<<<<< HEAD:src/02-feature_engineering.ipynb
    "rfm.info()"
   ]
  },
  {
=======
    "rfm_data.info()"
   ]
  },
  {
   "cell_type": "code",
   "execution_count": null,
   "metadata": {},
   "outputs": [],
   "source": []
  },
  {
>>>>>>> 252831ffebf07690eb788148e55594add478e079:src/02_feature_engineering.ipynb
   "attachments": {},
   "cell_type": "markdown",
   "metadata": {},
   "source": [
    "### <font color=\"green\"> V - Export gold Data </font>"
   ]
  },
  {
   "cell_type": "code",
<<<<<<< HEAD:src/02-feature_engineering.ipynb
   "execution_count": 24,
   "metadata": {},
   "outputs": [
    {
     "data": {
      "text/html": [
       "<div>\n",
       "<style scoped>\n",
       "    .dataframe tbody tr th:only-of-type {\n",
       "        vertical-align: middle;\n",
       "    }\n",
       "\n",
       "    .dataframe tbody tr th {\n",
       "        vertical-align: top;\n",
       "    }\n",
       "\n",
       "    .dataframe thead th {\n",
       "        text-align: right;\n",
       "    }\n",
       "</style>\n",
       "<table border=\"1\" class=\"dataframe\">\n",
       "  <thead>\n",
       "    <tr style=\"text-align: right;\">\n",
       "      <th></th>\n",
       "      <th>customer_id</th>\n",
       "      <th>invoice_date</th>\n",
       "      <th>invoice</th>\n",
       "      <th>total_price</th>\n",
       "    </tr>\n",
       "  </thead>\n",
       "  <tbody>\n",
       "    <tr>\n",
       "      <th>0</th>\n",
       "      <td>12346.0</td>\n",
       "      <td>326</td>\n",
       "      <td>17</td>\n",
       "      <td>-51.74</td>\n",
       "    </tr>\n",
       "    <tr>\n",
       "      <th>1</th>\n",
       "      <td>12347.0</td>\n",
       "      <td>3</td>\n",
       "      <td>8</td>\n",
       "      <td>4921.53</td>\n",
       "    </tr>\n",
       "    <tr>\n",
       "      <th>2</th>\n",
       "      <td>12348.0</td>\n",
       "      <td>76</td>\n",
       "      <td>5</td>\n",
       "      <td>2019.40</td>\n",
       "    </tr>\n",
       "    <tr>\n",
       "      <th>3</th>\n",
       "      <td>12349.0</td>\n",
       "      <td>19</td>\n",
       "      <td>5</td>\n",
       "      <td>4404.54</td>\n",
       "    </tr>\n",
       "    <tr>\n",
       "      <th>4</th>\n",
       "      <td>12350.0</td>\n",
       "      <td>311</td>\n",
       "      <td>1</td>\n",
       "      <td>334.40</td>\n",
       "    </tr>\n",
       "    <tr>\n",
       "      <th>...</th>\n",
       "      <td>...</td>\n",
       "      <td>...</td>\n",
       "      <td>...</td>\n",
       "      <td>...</td>\n",
       "    </tr>\n",
       "    <tr>\n",
       "      <th>5937</th>\n",
       "      <td>18283.0</td>\n",
       "      <td>4</td>\n",
       "      <td>22</td>\n",
       "      <td>2664.90</td>\n",
       "    </tr>\n",
       "    <tr>\n",
       "      <th>5938</th>\n",
       "      <td>18284.0</td>\n",
       "      <td>430</td>\n",
       "      <td>2</td>\n",
       "      <td>436.68</td>\n",
       "    </tr>\n",
       "    <tr>\n",
       "      <th>5939</th>\n",
       "      <td>18285.0</td>\n",
       "      <td>661</td>\n",
       "      <td>1</td>\n",
       "      <td>427.00</td>\n",
       "    </tr>\n",
       "    <tr>\n",
       "      <th>5940</th>\n",
       "      <td>18286.0</td>\n",
       "      <td>477</td>\n",
       "      <td>3</td>\n",
       "      <td>1188.43</td>\n",
       "    </tr>\n",
       "    <tr>\n",
       "      <th>5941</th>\n",
       "      <td>18287.0</td>\n",
       "      <td>43</td>\n",
       "      <td>8</td>\n",
       "      <td>4177.89</td>\n",
       "    </tr>\n",
       "  </tbody>\n",
       "</table>\n",
       "<p>5942 rows × 4 columns</p>\n",
       "</div>"
      ],
      "text/plain": [
       "     customer_id  invoice_date  invoice  total_price\n",
       "0        12346.0           326       17       -51.74\n",
       "1        12347.0             3        8      4921.53\n",
       "2        12348.0            76        5      2019.40\n",
       "3        12349.0            19        5      4404.54\n",
       "4        12350.0           311        1       334.40\n",
       "...          ...           ...      ...          ...\n",
       "5937     18283.0             4       22      2664.90\n",
       "5938     18284.0           430        2       436.68\n",
       "5939     18285.0           661        1       427.00\n",
       "5940     18286.0           477        3      1188.43\n",
       "5941     18287.0            43        8      4177.89\n",
       "\n",
       "[5942 rows x 4 columns]"
      ]
     },
     "execution_count": 24,
     "metadata": {},
     "output_type": "execute_result"
    }
   ],
   "source": [
    "rfm"
   ]
  },
  {
   "cell_type": "code",
   "execution_count": 29,
=======
   "execution_count": 176,
>>>>>>> 252831ffebf07690eb788148e55594add478e079:src/02_feature_engineering.ipynb
   "metadata": {},
   "outputs": [],
   "source": [
    "#EXporter la data dans un Csv \n",
<<<<<<< HEAD:src/02-feature_engineering.ipynb
    "# rfm.to_csv('../data/rfm_data.csv', columns=['customer_id', 'invoice_date', 'invoice', 'total_price'], index=False)\n",
    "\n",
    "rfm.to_csv('rfm_data.csv', columns=['customer_id', 'invoice_date', 'invoice', 'total_price'], index=False)\n"
=======
    "df_churn_custmer.to_csv('../data/df_churn_custmer.csv', index=False)"
   ]
  },
  {
   "cell_type": "code",
   "execution_count": 177,
   "metadata": {},
   "outputs": [],
   "source": [
    "#EXporter la data dans un Csv \n",
    "rfm_data.to_csv('../data/rfm.csv', index=False)"
>>>>>>> 252831ffebf07690eb788148e55594add478e079:src/02_feature_engineering.ipynb
   ]
  }
 ],
 "metadata": {
  "kernelspec": {
   "display_name": "machine_learning",
   "language": "python",
   "name": "python3"
  },
  "language_info": {
   "codemirror_mode": {
    "name": "ipython",
    "version": 3
   },
   "file_extension": ".py",
   "mimetype": "text/x-python",
   "name": "python",
   "nbconvert_exporter": "python",
   "pygments_lexer": "ipython3",
   "version": "3.10.9"
  },
  "orig_nbformat": 4,
  "vscode": {
   "interpreter": {
    "hash": "6372ac1f96e6a574de8fb7db2482e4b51a9c7365ff441969ce58324c2dcfaf16"
   }
  }
 },
 "nbformat": 4,
 "nbformat_minor": 2
}
