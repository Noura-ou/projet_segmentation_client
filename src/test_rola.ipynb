{
 "cells": [
  {
   "attachments": {},
   "cell_type": "markdown",
   "metadata": {},
   "source": [
    "## 01/ Preprocessing"
   ]
  },
  {
   "cell_type": "code",
   "execution_count": null,
   "metadata": {},
   "outputs": [],
   "source": [
    "import pandas as pd\n",
    "import numpy as np\n",
    "import seaborn as sns\n",
    "import matplotlib.pyplot as plt\n",
    "# Enable inline plotting in the notebook\n",
    "%matplotlib inline"
   ]
  },
  {
   "cell_type": "code",
   "execution_count": null,
   "metadata": {},
   "outputs": [],
   "source": [
    "# Read the XLSX file\n",
    "data_2010 = pd.read_excel(\"../data/bronze.xlsx\",sheet_name=\"Year 2009-2010\")\n",
    "data_2011 = pd.read_excel(\"../data/bronze.xlsx\",sheet_name=\"Year 2010-2011\")"
   ]
  },
  {
   "cell_type": "code",
   "execution_count": null,
   "metadata": {},
   "outputs": [],
   "source": [
    "datas = [data_2010, data_2011]\n",
    "data = pd.concat(datas, keys = ['09-10', '10-11'])\n",
    "data"
   ]
  },
  {
   "attachments": {},
   "cell_type": "markdown",
   "metadata": {},
   "source": [
    "### Attribute Information:\n",
    "\n",
    "- InvoiceNo: Invoice number. Nominal. A 6-digit integral number uniquely assigned to each transaction. If this code starts with the letter 'c', it indicates a cancellation.\n",
    "\n",
    "- StockCode: Product (item) code. Nominal. A 5-digit integral number uniquely assigned to each distinct product.\n",
    "\n",
    "- Description: Product (item) name. Nominal.\n",
    "\n",
    "- Quantity: The quantities of each product (item) per transaction. Numeric.\n",
    "\n",
    "- InvoiceDate: Invice date and time. Numeric. The day and time when a transaction was generated.\n",
    "\n",
    "- UnitPrice: Unit price. Numeric. Product price per unit in sterling (Â£).\n",
    "\n",
    "- CustomerID: Customer number. Nominal. A 5-digit integral number uniquely assigned to each customer.\n",
    "\n",
    "- Country: Country name. Nominal. The name of the country where a customer resides."
   ]
  },
  {
   "cell_type": "code",
   "execution_count": null,
   "metadata": {},
   "outputs": [],
   "source": [
    "from ydata_profiling import ProfileReport\n",
    "\n",
    "# Generate the profiling report\n",
    "profile = ProfileReport(data, title=\"Profiling Report\")\n",
    "\n",
    "# Save the report as an HTML file\n",
    "profile.to_file(\"profiling_report.html\")"
   ]
  },
  {
   "cell_type": "code",
   "execution_count": null,
   "metadata": {},
   "outputs": [],
   "source": [
    "data.rename(index = str, \\\n",
    "              columns = {'Invoice' : 'invoice', \\\n",
    "                         'StockCode' : 'stock_code', \\\n",
    "                         'Quantity' : 'quantity', \\\n",
    "                         'InvoiceDate' : 'invoice_date', \\\n",
    "                         'Price' : 'unit_price', \\\n",
    "                         'Country' : 'country', \\\n",
    "                         'Description' : 'description', \\\n",
    "                         'Customer ID' : 'customer_id'}, inplace = True)\n",
    "data"
   ]
  },
  {
   "cell_type": "code",
   "execution_count": null,
   "metadata": {},
   "outputs": [],
   "source": [
    "data.info()"
   ]
  },
  {
   "cell_type": "code",
   "execution_count": null,
   "metadata": {},
   "outputs": [],
   "source": [
    "# number of unique customers\n",
    "data[\"customer_id\"].nunique()"
   ]
  },
  {
   "cell_type": "code",
   "execution_count": null,
   "metadata": {},
   "outputs": [],
   "source": [
    "# Check the statistical information for data for null values:\n",
    "data.isnull().sum().sort_values(ascending = False)"
   ]
  },
  {
   "cell_type": "code",
   "execution_count": null,
   "metadata": {},
   "outputs": [],
   "source": [
    "data.describe()"
   ]
  },
  {
   "cell_type": "code",
   "execution_count": null,
   "metadata": {},
   "outputs": [],
   "source": [
    "# Calculate how many negative values of unit_price are present in retail. If they are only a small percentage of the total number of instances, then remove them from retail:\n",
    "(data['unit_price'] <= 0).sum()"
   ]
  },
  {
   "cell_type": "code",
   "execution_count": null,
   "metadata": {},
   "outputs": [],
   "source": [
    "# Similarly, find out the number of negative values of quantity:\n",
    "(data['quantity'] <= 0).sum()"
   ]
  },
  {
   "cell_type": "code",
   "execution_count": null,
   "metadata": {},
   "outputs": [],
   "source": [
    "# Display the total number of negative instances for the unit_price and quantity columns:\n",
    "data[(data['unit_price'] <= 0) & (data['quantity'] <= 0) \\\n",
    "       & (data['customer_id'].isnull())]"
   ]
  },
  {
   "cell_type": "code",
   "execution_count": null,
   "metadata": {},
   "outputs": [],
   "source": [
    "data[(data['quantity'] <= 0) ]"
   ]
  },
  {
   "cell_type": "code",
   "execution_count": null,
   "metadata": {},
   "outputs": [],
   "source": [
    "data[(data['unit_price'] < 0) ]\n",
    "# Adjust bad debt = Ajustement des créances douteuses"
   ]
  },
  {
   "cell_type": "code",
   "execution_count": null,
   "metadata": {},
   "outputs": [],
   "source": [
    "# Store the instances with missing values in another DataFrame:\n",
    "null_data = data[data.isnull().any(axis=1)]\n",
    "null_data"
   ]
  },
  {
   "cell_type": "code",
   "execution_count": null,
   "metadata": {},
   "outputs": [],
   "source": [
    "# # Delete the instances with missing values from retail:\n",
    "# new_data = data[(data['unit_price'] > 0) \\\n",
    "#                     & (data['quantity'] > 0)]\n",
    "# new_data.describe()"
   ]
  },
  {
   "cell_type": "code",
   "execution_count": null,
   "metadata": {},
   "outputs": [],
   "source": [
    "# Drop rows with NaN values in the customer_id column\n",
    "del_data = data.dropna(subset=['customer_id', 'description'])\n",
    "\n",
    "del_data"
   ]
  },
  {
   "cell_type": "code",
   "execution_count": null,
   "metadata": {},
   "outputs": [],
   "source": [
    "del_data.info()"
   ]
  },
  {
   "cell_type": "code",
   "execution_count": null,
   "metadata": {},
   "outputs": [],
   "source": [
    "# del_data.plot()"
   ]
  },
  {
   "cell_type": "code",
   "execution_count": null,
   "metadata": {},
   "outputs": [],
   "source": [
    "# Plot a boxplot for unit_price to see if there are any outliers. If there are, remove those instances:\n",
    "plt.subplots(figsize = (12, 6))\n",
    "sns.boxplot(del_data.unit_price)"
   ]
  },
  {
   "cell_type": "code",
   "execution_count": null,
   "metadata": {},
   "outputs": [],
   "source": [
    "del_data.drop_duplicates(inplace=True)\n",
    "df = del_data\n",
    "df"
   ]
  },
  {
   "cell_type": "code",
   "execution_count": null,
   "metadata": {},
   "outputs": [],
   "source": [
    "# Plot a boxplot for unit_price to see if there are any outliers. If there are, remove those instances:\n",
    "plt.subplots(figsize = (12, 6))\n",
    "sns.boxplot(df.unit_price)"
   ]
  },
  {
   "cell_type": "code",
   "execution_count": null,
   "metadata": {},
   "outputs": [],
   "source": [
    "# Filter the negative values\n",
    "negative_values = del_data.unit_price[del_data.unit_price < 0]\n",
    "negative_values"
   ]
  },
  {
   "cell_type": "code",
   "execution_count": null,
   "metadata": {},
   "outputs": [],
   "source": [
    "df = df[(df['unit_price'] > 0) & (df['unit_price'] < 15000)]\n",
    "df.describe()"
   ]
  },
  {
   "cell_type": "code",
   "execution_count": null,
   "metadata": {},
   "outputs": [],
   "source": [
    "df.info()"
   ]
  },
  {
   "cell_type": "code",
   "execution_count": null,
   "metadata": {},
   "outputs": [],
   "source": [
    "df.isnull().sum().sort_values(ascending = False)"
   ]
  },
  {
   "cell_type": "code",
   "execution_count": null,
   "metadata": {},
   "outputs": [],
   "source": [
    "\n",
    "# Create a figure and axes\n",
    "fig, ax = plt.subplots()\n",
    "\n",
    "# Plot the boxplot\n",
    "ax.boxplot(df.unit_price)\n",
    "\n",
    "# Set title\n",
    "\n",
    "ax.set_title('Price')\n",
    "\n",
    "# Display the plot\n",
    "plt.show()"
   ]
  },
  {
   "cell_type": "code",
   "execution_count": null,
   "metadata": {},
   "outputs": [],
   "source": [
    "# number of unique customers\n",
    "df[\"customer_id\"].nunique()"
   ]
  },
  {
   "cell_type": "code",
   "execution_count": null,
   "metadata": {},
   "outputs": [],
   "source": [
    "# change type of customer_id from float to string\n",
    "data['customer_id']=data['customer_id'].astype(str)\n",
    "data.info()"
   ]
  },
  {
   "attachments": {},
   "cell_type": "markdown",
   "metadata": {},
   "source": [
    "### Remarks:\n",
    "- "
   ]
  },
  {
   "attachments": {},
   "cell_type": "markdown",
   "metadata": {},
   "source": [
    "## 02/ Data Analysis"
   ]
  },
  {
   "attachments": {},
   "cell_type": "markdown",
   "metadata": {},
   "source": [
    "### Customer Segmentation with RFM"
   ]
  },
  {
   "cell_type": "code",
   "execution_count": null,
   "metadata": {},
   "outputs": [],
   "source": [
    "import datetime as dt"
   ]
  },
  {
   "cell_type": "code",
   "execution_count": null,
   "metadata": {},
   "outputs": [],
   "source": [
    "# Add a new column which calculates the total despense\n",
    "df['TotalPrice'] = df['quantity'] * df['unit_price']\n",
    "df.head(2)"
   ]
  },
  {
   "attachments": {},
   "cell_type": "markdown",
   "metadata": {},
   "source": [
    "### Calculating RFM Metrics (Recency, frequency and monetary)\n",
    "- R for how recently did the customer purchase? This information can be used to remind recent customers to revisit the business soon to continue meeting their purchase needs.\n",
    "\n",
    "- F for how often do the customer purchase? Predicting this can assist marketing efforts directed at reminding the customer to visit the business again.\n",
    "\n",
    "- M for how much do the customer spend? While this can produce a better return on investment in marketing and customer service, it also runs the risk of alienating customers who have been consistent but have not spent as much with each transaction."
   ]
  },
  {
   "attachments": {},
   "cell_type": "markdown",
   "metadata": {},
   "source": [
    "### RFM Segments\n",
    "- Champions: Your best customers, they buy and spend a lot and made their last purchase recently.\n",
    "\n",
    "- Loyal Customer: Very good customers. They spend a lot.\n",
    "\n",
    "- Potential Loyalist: Recent customers, but who have already spent a lot.\n",
    "\n",
    "- New Customer: Recent customers, who made only a few purchases.\n",
    "\n",
    "- Promising: Customers who buy frequently and spend a lot, but made their last purchase some time ago.\n",
    "\n",
    "- Need Attention: Customers with recency and above-average spending.\n",
    "\n",
    "- At Risk: Customers who bought frequently, but haven't made any purchases in a long time.\n",
    "\n",
    "- Can't lose them: Customers who have spent a lot, but have been inactive for a long time.\n",
    "\n",
    "- Hibernate: Low-frequency, low-spender customers who haven't bought in a long time.\n",
    "\n",
    "- Lost: Your worst customers. They haven't bought in a long time, they only bought once and they spent very little."
   ]
  },
  {
   "attachments": {},
   "cell_type": "markdown",
   "metadata": {},
   "source": [
    "#############################################################\""
   ]
  },
  {
   "cell_type": "code",
   "execution_count": null,
   "metadata": {},
   "outputs": [],
   "source": [
    "# Définir une fonction de conversion pour la colonne datetime\n",
    "def parse_datetime(date_string):\n",
    "    return pd.to_datetime(date_string)\n",
    "\n",
    "# Spécifier les types de données et les convertisseurs\n",
    "dtype = {'invoice': str, 'object': int, 'stock_code': object, 'description': object, 'quantity': int, 'unit_price': float, 'customer_id': object, 'country': object}\n",
    "converters = {'invoice_date': parse_datetime}\n",
    "\n",
    "# Charger le fichier CSV en utilisant les types de données et les convertisseurs\n",
    "data = pd.read_csv(\"../data/silver.csv\", dtype=dtype, converters=converters)\n",
    "\n",
    "# Vérifier les types de données\n",
    "print(data.dtypes)"
   ]
  },
  {
   "cell_type": "code",
   "execution_count": null,
   "metadata": {},
   "outputs": [],
   "source": [
    "# Spécifier les types de données et les convertisseurs\n",
    "dtype = {'invoice_date': int,'invoice': int, 'total_price': float}\n",
    "\n",
    "# Charger le fichier CSV en utilisant les types de données et les convertisseurs\n",
    "rfm = pd.read_csv(\"../data/rfm_data.csv\", dtype=dtype)\n",
    "\n",
    "# Vérifier les types de données\n",
    "print(rfm.dtypes)"
   ]
  },
  {
   "cell_type": "code",
   "execution_count": null,
   "metadata": {},
   "outputs": [],
   "source": [
    "rfm"
   ]
  },
  {
   "cell_type": "code",
   "execution_count": null,
   "metadata": {},
   "outputs": [],
   "source": [
    "rfm.rename(columns={'invoice_date': 'Recency', 'invoice': 'Frequency', 'total_price': 'Monetary'}, inplace=True)\n",
    "rfm"
   ]
  },
  {
   "cell_type": "code",
   "execution_count": null,
   "metadata": {},
   "outputs": [],
   "source": [
    "rfm.describe()"
   ]
  },
  {
   "cell_type": "code",
   "execution_count": null,
   "metadata": {},
   "outputs": [],
   "source": [
    "sns.scatterplot(x=rfm['Frequency'], y=rfm['Monetary'])\n",
    "plt.xlim([0,150])\n",
    "plt.ylim([0,10000])\n",
    "plt.show()"
   ]
  },
  {
   "cell_type": "code",
   "execution_count": null,
   "metadata": {},
   "outputs": [],
   "source": [
    "sns.boxplot(rfm['Frequency'])"
   ]
  },
  {
   "cell_type": "code",
   "execution_count": null,
   "metadata": {},
   "outputs": [],
   "source": [
    "sns.boxplot(rfm.Monetary)"
   ]
  },
  {
   "cell_type": "code",
   "execution_count": null,
   "metadata": {},
   "outputs": [],
   "source": [
    "sns.boxplot(rfm.Recency)"
   ]
  },
  {
   "cell_type": "code",
   "execution_count": null,
   "metadata": {},
   "outputs": [],
   "source": [
    "# 3D scatterplot of Recency, Frequency and Monetary\n",
    "plt.figure(dpi=150)\n",
    "ax = plt.axes(projection='3d')\n",
    "ax.scatter3D(rfm.Recency, rfm.Frequency, rfm.Monetary)\n",
    "# ax.view_init(30,30)"
   ]
  },
  {
   "cell_type": "code",
   "execution_count": null,
   "metadata": {},
   "outputs": [],
   "source": [
    "# Remove outliers using z-score\n",
    "from scipy import stats\n",
    "c = ['Recency', 'Frequency', 'Monetary']\n",
    "# rfm.shape\n",
    "rfmno = rfm[c][(np.abs(stats.zscore(rfm[c])) < 3).all(axis=1)]\n",
    "\n",
    "# 3D scatterplot of Recency, Frequency and Monetary\n",
    "plt.figure(dpi=150)\n",
    "ax = plt.axes(projection='3d')\n",
    "ax.scatter3D(rfmno.Recency, rfmno.Frequency, rfmno.Monetary)\n",
    "# ax.view_init(30,30)\n",
    "\n"
   ]
  },
  {
   "cell_type": "code",
   "execution_count": null,
   "metadata": {},
   "outputs": [],
   "source": [
    "rfm"
   ]
  },
  {
   "cell_type": "code",
   "execution_count": null,
   "metadata": {},
   "outputs": [],
   "source": [
    "from sklearn.preprocessing import StandardScaler\n",
    "rfms = StandardScaler().fit(rfm[c]).transform(rfm[c])\n",
    "rfms = pd.DataFrame(rfms, columns=c)\n",
    "rfmsno = rfms[c][np.abs(rfms[c] < 3).all(axis=1)]\n",
    "rfmsno"
   ]
  },
  {
   "cell_type": "code",
   "execution_count": null,
   "metadata": {},
   "outputs": [],
   "source": [
    "from sklearn.cluster import KMeans\n",
    "\n",
    "plt.figure(dpi=100)\n",
    "inertias = []\n",
    "for i in range(1,15):\n",
    "    inertias.append(KMeans(n_clusters = i).fit(rfm[c]).inertia_)\n",
    "plt.plot(range(1,15), inertias)\n",
    "plt.ylabel('Inertia')\n",
    "plt.xlabel('Number of Clusters')\n",
    "plt.title('KMeans Performance By Cluster Number')\n",
    "\n"
   ]
  },
  {
   "cell_type": "code",
   "execution_count": null,
   "metadata": {},
   "outputs": [],
   "source": [
    "kp = pd.Series(KMeans(n_clusters = 3, random_state=10, max_iter=3000).fit(rfms[c]).predict(rfms[c]))\n",
    "rfm['Cluster'] = kp"
   ]
  },
  {
   "cell_type": "code",
   "execution_count": null,
   "metadata": {},
   "outputs": [],
   "source": [
    "rfm.Cluster.value_counts()"
   ]
  },
  {
   "cell_type": "code",
   "execution_count": null,
   "metadata": {},
   "outputs": [],
   "source": [
    "plt.figure(dpi=150)\n",
    "ax = plt.axes(projection='3d')\n",
    "ax.scatter3D(rfm.Recency, rfm.Frequency, rfm.Monetary, c=rfm.Cluster.values, cmap='gist_rainbow')\n",
    "plt.xlabel('Recency')\n",
    "plt.ylabel('Frequency')\n",
    "ax.set_zlabel('Monetary Value')\n",
    "plt.title('Customer Clusters')\n",
    "plt.legend()"
   ]
  },
  {
   "cell_type": "code",
   "execution_count": null,
   "metadata": {},
   "outputs": [],
   "source": [
    "rfm[c + ['Cluster']].groupby('Cluster').mean()"
   ]
  },
  {
   "cell_type": "code",
   "execution_count": null,
   "metadata": {},
   "outputs": [],
   "source": [
    "plt.scatter(rfm.Frequency, rfm.Monetary,c=rfm.Segment)"
   ]
  },
  {
   "cell_type": "code",
   "execution_count": null,
   "metadata": {},
   "outputs": [],
   "source": []
  }
 ],
 "metadata": {
  "kernelspec": {
   "display_name": "sklearn-env",
   "language": "python",
   "name": "python3"
  },
  "language_info": {
   "codemirror_mode": {
    "name": "ipython",
    "version": 3
   },
   "file_extension": ".py",
   "mimetype": "text/x-python",
   "name": "python",
   "nbconvert_exporter": "python",
   "pygments_lexer": "ipython3",
   "version": "3.11.3"
  },
  "orig_nbformat": 4,
  "vscode": {
   "interpreter": {
    "hash": "28ff26c65758d064959116f1d9c8fbca26d00c18c6d798db5e6a86c21bd645e4"
   }
  }
 },
 "nbformat": 4,
 "nbformat_minor": 2
}
